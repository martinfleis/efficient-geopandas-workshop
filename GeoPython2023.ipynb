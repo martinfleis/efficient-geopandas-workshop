{
 "cells": [
  {
   "attachments": {},
   "cell_type": "markdown",
   "metadata": {},
   "source": [
    "# Writing an efficient code for GeoPandas and Shapely in 2023\n",
    "\n",
    "With the release of Shapely 2.0, the GeoPandas-based code that have been optimised years ago may no longer provide the best performance. This workshop will show you how to change that and write efficient and convenient GeoPandas code that uses the benefits of the latest developments in the Python geospatial ecosystem.\n",
    "\n",
    "**Martin Fleischmann, Joris van den Bossche**\n",
    "\n",
    "08/03/2022, Basel\n",
    "\n",
    "## Setup\n",
    "\n",
    "Follow the ReadMe to set up the environment correctly. You should have these packages installed:\n",
    "\n",
    "```\n",
    "- geopandas\n",
    "- pyogrio\n",
    "- pyarrow\n",
    "```\n",
    "\n",
    "## What is GeoPandas?\n",
    "\n",
    "**Easy, fast and scalable geospatial analysis in Python**\n",
    "\n",
    "From the docs:\n",
    "\n",
    "> The goal of GeoPandas is to make working with geospatial data in python easier. It combines the capabilities of pandas and shapely, providing geospatial operations in pandas and a high-level interface to multiple geometries to shapely. GeoPandas enables you to easily do operations in python that would otherwise require a spatial database such as PostGIS.\n",
    "\n",
    "## How to write an efficient code for GeoPandas?\n",
    "\n",
    "The way an efficient code should look like evolves as the whole ecosystem constantly develops better, smarter and faster tools. What was considered a good piece of code only a few years ago may not be optimal today. \n",
    "\n",
    "This notebook contains a set of examples of the common tasks. Each shows a way that was recommended some time ago. By us, by the community, in the documentation or on StackOverflow or elsewhere. And each show a way that is recommended today, with GeoPandas 0.12 and Shapely 2.0. "
   ]
  },
  {
   "cell_type": "code",
   "execution_count": 1,
   "metadata": {},
   "outputs": [],
   "source": [
    "import geopandas"
   ]
  },
  {
   "cell_type": "code",
   "execution_count": 2,
   "metadata": {},
   "outputs": [
    {
     "name": "stdout",
     "output_type": "stream",
     "text": [
      "\n",
      "SYSTEM INFO\n",
      "-----------\n",
      "python     : 3.11.0 | packaged by conda-forge | (main, Jan 14 2023, 12:26:40) [Clang 14.0.6 ]\n",
      "executable : /Users/martin/mambaforge/envs/geopandas-workshop/bin/python\n",
      "machine    : macOS-13.2.1-arm64-arm-64bit\n",
      "\n",
      "GEOS, GDAL, PROJ INFO\n",
      "---------------------\n",
      "GEOS       : 3.11.1\n",
      "GEOS lib   : None\n",
      "GDAL       : 3.6.2\n",
      "GDAL data dir: /Users/martin/mambaforge/envs/geopandas-workshop/share/gdal\n",
      "PROJ       : 9.1.1\n",
      "PROJ data dir: /Users/martin/mambaforge/envs/geopandas-workshop/share/proj\n",
      "\n",
      "PYTHON DEPENDENCIES\n",
      "-------------------\n",
      "geopandas  : 0.12.2\n",
      "numpy      : 1.24.2\n",
      "pandas     : 1.5.3\n",
      "pyproj     : 3.4.1\n",
      "shapely    : 2.0.1\n",
      "fiona      : 1.9.1\n",
      "geoalchemy2: None\n",
      "geopy      : None\n",
      "matplotlib : 3.7.0\n",
      "mapclassify: 2.5.0\n",
      "pygeos     : None\n",
      "pyogrio    : 0.5.1\n",
      "psycopg2   : None\n",
      "pyarrow    : 11.0.0\n",
      "rtree      : 1.0.1\n"
     ]
    }
   ],
   "source": [
    "geopandas.show_versions()"
   ]
  },
  {
   "attachments": {},
   "cell_type": "markdown",
   "metadata": {},
   "source": [
    "- spatial predicates - use STRtree not binary predicates or sjoin\n",
    "    - https://stackoverflow.com/questions/48097742/geopandas-point-in-polygon\n",
    "    - https://stackoverflow.com/questions/62410871/how-do-i-test-if-point-is-in-polygon-multipolygon-with-geopandas-in-python\n",
    "    - https://gis.stackexchange.com/questions/281652/finding-all-neighbors-using-geopandas\n",
    "- efficient IO\n",
    "    - pyogrio, parquet\n",
    "- pairwise distance (shapely ufunc broadcasting - `shapely.distance(pts, np.reshape(pts, (-1, 1)))`)\n",
    "    - https://stackoverflow.com/questions/64754025/calculate-all-distances-between-two-geodataframe-of-points-in-geopandas\n",
    "- folium mapping\n",
    "    - https://autogis-site.readthedocs.io/en/latest/lessons/lesson-5/interactive-maps.html\n",
    "- WKT/WKB serialization\n",
    "    - https://stackoverflow.com/questions/61122875/geopandas-how-to-read-a-csv-and-convert-to-a-geopandas-dataframe-with-polygons\n",
    "    - https://stackoverflow.com/questions/61125808/geopandas-how-to-convert-the-column-geometry-to-string\n",
    "- creating point geometry\n",
    "    - https://stackoverflow.com/questions/50971914/what-is-the-most-efficient-way-to-convert-numpy-arrays-to-shapely-points\n",
    "- nearest\n",
    "    - https://stackoverflow.com/questions/30740046/calculate-distance-to-nearest-feature-with-geopandas\n",
    "    - https://stackoverflow.com/questions/56520780/how-to-use-geopanda-or-shapely-to-find-nearest-point-in-same-geodataframe\n",
    "- points to lines\n",
    "    - https://stackoverflow.com/questions/51071365/convert-points-to-lines-geopandas\n",
    "- specifying a projection (don't use `init...`)\n",
    "    - https://gis.stackexchange.com/questions/218450/getting-polygon-areas-using-geopandas\n",
    "- getting coordinates\n",
    "    - https://gis.stackexchange.com/questions/287306/listing-all-polygon-vertices-coordinates-using-geopandas\n",
    "- dissolve connected components\n",
    "    - https://gis.stackexchange.com/questions/271733/geopandas-dissolve-overlapping-polygons\n",
    "- rounding coordinates (and the issues it may cause)\n",
    "    - https://gis.stackexchange.com/questions/321518/rounding-coordinates-to-five-decimals-in-geopandas"
   ]
  },
  {
   "cell_type": "code",
   "execution_count": null,
   "metadata": {},
   "outputs": [],
   "source": []
  }
 ],
 "metadata": {
  "kernelspec": {
   "display_name": "geopandas-workshop",
   "language": "python",
   "name": "python3"
  },
  "language_info": {
   "codemirror_mode": {
    "name": "ipython",
    "version": 3
   },
   "file_extension": ".py",
   "mimetype": "text/x-python",
   "name": "python",
   "nbconvert_exporter": "python",
   "pygments_lexer": "ipython3",
   "version": "3.11.0"
  },
  "orig_nbformat": 4,
  "vscode": {
   "interpreter": {
    "hash": "029493424c262204dc2a0b83d1ac63e4e0f746dccf0eac8b34673e62335cac43"
   }
  }
 },
 "nbformat": 4,
 "nbformat_minor": 2
}
