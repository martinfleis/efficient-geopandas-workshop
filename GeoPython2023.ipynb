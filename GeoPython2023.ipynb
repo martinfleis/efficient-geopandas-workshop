{
 "cells": [
  {
   "cell_type": "markdown",
   "metadata": {},
   "source": [
    "# Writing an efficient code for GeoPandas and Shapely in 2023\n",
    "\n",
    "With the release of Shapely 2.0, the GeoPandas-based code that have been optimised years ago may no longer provide the best performance. This workshop will show you how to change that and write efficient and convenient GeoPandas code that uses the benefits of the latest developments in the Python geospatial ecosystem.\n",
    "\n",
    "**Martin Fleischmann, Joris van den Bossche**\n",
    "\n",
    "08/03/2022, Basel\n",
    "\n",
    "## Setup\n",
    "\n",
    "Follow the ReadMe to set up the environment correctly. You should have these packages installed:\n",
    "\n",
    "```\n",
    "- geopandas\n",
    "- pyogrio\n",
    "- pyarrow\n",
    "```\n",
    "\n",
    "## What is GeoPandas?\n",
    "\n",
    "**Easy, fast and scalable geospatial analysis in Python**\n",
    "\n",
    "From the docs:\n",
    "\n",
    "> The goal of GeoPandas is to make working with geospatial data in python easier. It combines the capabilities of pandas and shapely, providing geospatial operations in pandas and a high-level interface to multiple geometries to shapely. GeoPandas enables you to easily do operations in python that would otherwise require a spatial database such as PostGIS.\n",
    "\n",
    "## How to write an efficient code for GeoPandas?\n",
    "\n",
    "The way an efficient code should look like evolves as the whole ecosystem constantly develops better, smarter and faster tools. What was considered a good piece of code only a few years ago may not be optimal today. \n",
    "\n",
    "This notebook contains a set of examples of the common tasks. Each shows a way that was recommended some time ago. By us, by the community, in the documentation or on StackOverflow or elsewhere. And each show a way that is recommended today, with GeoPandas 0.12 and Shapely 2.0. "
   ]
  },
  {
   "cell_type": "code",
   "execution_count": 1,
   "metadata": {
    "tags": []
   },
   "outputs": [],
   "source": [
    "import geopandas\n",
    "import numpy\n",
    "import pandas\n",
    "import shapely\n",
    "\n",
    "from shapely.geometry import Point, LineString, Polygon"
   ]
  },
  {
   "cell_type": "markdown",
   "metadata": {},
   "source": [
    "Check that you are running the latest versions. GeoPandas should be at 0.12.2 while Shapely at 2.0.1. "
   ]
  },
  {
   "cell_type": "code",
   "execution_count": 2,
   "metadata": {
    "tags": []
   },
   "outputs": [
    {
     "data": {
      "text/plain": [
       "('0.12.2', '2.0.1')"
      ]
     },
     "execution_count": 2,
     "metadata": {},
     "output_type": "execute_result"
    }
   ],
   "source": [
    "geopandas.__version__, shapely.__version__"
   ]
  },
  {
   "cell_type": "markdown",
   "metadata": {},
   "source": [
    "- [ ] spatial predicates - use STRtree not binary predicates or sjoin\n",
    "    - https://stackoverflow.com/questions/48097742/geopandas-point-in-polygon\n",
    "    - https://stackoverflow.com/questions/62410871/how-do-i-test-if-point-is-in-polygon-multipolygon-with-geopandas-in-python\n",
    "    - https://gis.stackexchange.com/questions/281652/finding-all-neighbors-using-geopandas\n",
    "- [ ] efficient IO\n",
    "    - pyogrio, parquet\n",
    "- [ ] pairwise distance (shapely ufunc broadcasting - `shapely.distance(pts, np.reshape(pts, (-1, 1)))`)\n",
    "    - https://stackoverflow.com/questions/64754025/calculate-all-distances-between-two-geodataframe-of-points-in-geopandas\n",
    "- [x] folium mapping\n",
    "    - https://autogis-site.readthedocs.io/en/latest/lessons/lesson-5/interactive-maps.html\n",
    "- [x] WKT/WKB serialization\n",
    "    - https://stackoverflow.com/questions/61122875/geopandas-how-to-read-a-csv-and-convert-to-a-geopandas-dataframe-with-polygons\n",
    "    - https://stackoverflow.com/questions/61125808/geopandas-how-to-convert-the-column-geometry-to-string\n",
    "- [x] creating point geometry\n",
    "    - https://stackoverflow.com/questions/50971914/what-is-the-most-efficient-way-to-convert-numpy-arrays-to-shapely-points\n",
    "- [ ] nearest\n",
    "    - https://stackoverflow.com/questions/30740046/calculate-distance-to-nearest-feature-with-geopandas\n",
    "    - https://stackoverflow.com/questions/56520780/how-to-use-geopanda-or-shapely-to-find-nearest-point-in-same-geodataframe\n",
    "- [x] points to lines\n",
    "    - https://stackoverflow.com/questions/51071365/convert-points-to-lines-geopandas\n",
    "- [x] specifying a projection (don't use `init...`)\n",
    "    - https://gis.stackexchange.com/questions/218450/getting-polygon-areas-using-geopandas\n",
    "- [x] getting coordinates\n",
    "    - https://gis.stackexchange.com/questions/287306/listing-all-polygon-vertices-coordinates-using-geopandas\n",
    "- [x] dissolve connected components\n",
    "    - https://gis.stackexchange.com/questions/271733/geopandas-dissolve-overlapping-polygons\n",
    "- [x] rounding coordinates (and the issues it may cause)\n",
    "    - https://gis.stackexchange.com/questions/321518/rounding-coordinates-to-five-decimals-in-geopandas"
   ]
  },
  {
   "cell_type": "markdown",
   "metadata": {},
   "source": [
    "## Data creation\n",
    "\n",
    "Before you can work with geometries, you may need to create them.\n",
    "\n",
    "### Create points from coordinates\n",
    "\n",
    "> **QUESTION:** I have an array with latitude and longitude coordinates denoting locations of interest. How do I create geometry?\n",
    "\n",
    "Create a dummy array of coordinates, representing latitude and longitude."
   ]
  },
  {
   "cell_type": "code",
   "execution_count": null,
   "metadata": {
    "tags": []
   },
   "outputs": [],
   "source": [
    "latitude = numpy.random.uniform(-90, 90, 100_000)\n",
    "longitude = numpy.random.uniform(-180, 180, 100_000)"
   ]
  },
  {
   "cell_type": "code",
   "execution_count": null,
   "metadata": {
    "tags": []
   },
   "outputs": [],
   "source": [
    "coordinates_df = pandas.DataFrame({\"latitude\": latitude, \"longitude\": longitude})\n",
    "coordinates_df.head()"
   ]
  },
  {
   "cell_type": "markdown",
   "metadata": {},
   "source": [
    "#### The code of the past\n",
    "\n",
    "Using `map` and a scalar `Point` object."
   ]
  },
  {
   "cell_type": "code",
   "execution_count": null,
   "metadata": {
    "tags": []
   },
   "outputs": [],
   "source": [
    "# do not use this code\n",
    "\n",
    "%time s = geopandas.GeoSeries(map(Point, zip(longitude, latitude)), crs=4326)\n",
    "s.head()"
   ]
  },
  {
   "cell_type": "markdown",
   "metadata": {},
   "source": [
    "Using list comprehension and a scalar `Point` object."
   ]
  },
  {
   "cell_type": "code",
   "execution_count": null,
   "metadata": {
    "tags": []
   },
   "outputs": [],
   "source": [
    "# do not use this code\n",
    "\n",
    "%time s = geopandas.GeoSeries([Point(coords) for coords in zip(longitude, latitude)], crs=4326)\n",
    "s.head()"
   ]
  },
  {
   "cell_type": "markdown",
   "metadata": {
    "tags": []
   },
   "source": [
    "Using `apply` and a scalar `Point` object."
   ]
  },
  {
   "cell_type": "code",
   "execution_count": null,
   "metadata": {
    "tags": []
   },
   "outputs": [],
   "source": [
    "# do not use this code\n",
    "\n",
    "%time s = coordinates_df.apply(lambda x: Point(x[::-1]), axis=1)\n",
    "s.head()"
   ]
  },
  {
   "cell_type": "markdown",
   "metadata": {},
   "source": [
    "The resulting object is not even a GeoSeries yet."
   ]
  },
  {
   "cell_type": "code",
   "execution_count": null,
   "metadata": {
    "tags": []
   },
   "outputs": [],
   "source": [
    "s = geopandas.GeoSeries(s, crs=4326)\n",
    "s.head()"
   ]
  },
  {
   "cell_type": "markdown",
   "metadata": {},
   "source": [
    "#### The code of today\n",
    "\n",
    "Using `GeoSeries.from_xy`."
   ]
  },
  {
   "cell_type": "code",
   "execution_count": null,
   "metadata": {
    "tags": []
   },
   "outputs": [],
   "source": [
    "%time s = geopandas.GeoSeries.from_xy(longitude, latitude, crs=4326)\n",
    "s.head()"
   ]
  },
  {
   "cell_type": "markdown",
   "metadata": {},
   "source": [
    "Using `geopandas.points_from_xy`."
   ]
  },
  {
   "cell_type": "code",
   "execution_count": null,
   "metadata": {
    "tags": []
   },
   "outputs": [],
   "source": [
    "%time ga = geopandas.points_from_xy(coordinates_df.longitude, coordinates_df.latitude, crs=4326)\n",
    "ga"
   ]
  },
  {
   "cell_type": "markdown",
   "metadata": {},
   "source": [
    "### Geometry from text\n",
    "\n",
    "> **QUESTION** I have loaded a CSV, like the one in `data/sales.csv`, that has a column looking like a geometry but it is a string. How do I create a geometry I can work with?\n",
    "\n",
    "Load the CSV in question."
   ]
  },
  {
   "cell_type": "code",
   "execution_count": null,
   "metadata": {
    "tags": []
   },
   "outputs": [],
   "source": [
    "df = pandas.read_csv(\"data/sales.csv\")\n",
    "df.head()"
   ]
  },
  {
   "cell_type": "code",
   "execution_count": null,
   "metadata": {
    "tags": []
   },
   "outputs": [],
   "source": [
    "df.dtypes"
   ]
  },
  {
   "cell_type": "markdown",
   "metadata": {},
   "source": [
    "#### The code of the past\n",
    "\n",
    "Using `shapely.wkt.loads`."
   ]
  },
  {
   "cell_type": "code",
   "execution_count": null,
   "metadata": {
    "tags": []
   },
   "outputs": [],
   "source": [
    "# do not use this code\n",
    "from shapely import wkt\n",
    "\n",
    "%time gdf = geopandas.GeoDataFrame(df, geometry=df.geometry.apply(wkt.loads), crs=4326)\n",
    "gdf.head()"
   ]
  },
  {
   "cell_type": "markdown",
   "metadata": {},
   "source": [
    "#### The code of today\n",
    "\n",
    "Using `GeoSeries.from_wkt`."
   ]
  },
  {
   "cell_type": "code",
   "execution_count": null,
   "metadata": {
    "tags": []
   },
   "outputs": [],
   "source": [
    "%time gdf = geopandas.GeoDataFrame(df, geometry=geopandas.GeoSeries.from_wkt(df.geometry, crs=4326))\n",
    "gdf.head()"
   ]
  },
  {
   "cell_type": "code",
   "execution_count": null,
   "metadata": {
    "tags": []
   },
   "outputs": [],
   "source": [
    "gdf.dtypes"
   ]
  },
  {
   "cell_type": "markdown",
   "metadata": {},
   "source": [
    "### Geometry from bytes\n",
    "\n",
    "> **QUESTION** I have loaded a Apache Parquet, like the one in `data/sales.parquet`, that has a column called geometry but it looks weird. How do I create a geometry I can work with?\n",
    "\n",
    "Load the CSV in question."
   ]
  },
  {
   "cell_type": "code",
   "execution_count": null,
   "metadata": {
    "tags": []
   },
   "outputs": [],
   "source": [
    "df = pandas.read_parquet(\"data/sales.parquet\")\n",
    "df.head()"
   ]
  },
  {
   "cell_type": "markdown",
   "metadata": {},
   "source": [
    "#### The code of the past\n",
    "\n",
    "Using `shapely.wkb.loads`."
   ]
  },
  {
   "cell_type": "code",
   "execution_count": null,
   "metadata": {
    "tags": []
   },
   "outputs": [],
   "source": [
    "# do not use this code\n",
    "from shapely import wkb\n",
    "\n",
    "%time gdf = geopandas.GeoDataFrame(df, geometry=df.geometry.apply(wkb.loads), crs=4326)\n",
    "gdf.head()"
   ]
  },
  {
   "cell_type": "markdown",
   "metadata": {},
   "source": [
    "#### The code of today\n",
    "\n",
    "Using `GeoSeries.from_wkb`."
   ]
  },
  {
   "cell_type": "code",
   "execution_count": null,
   "metadata": {
    "tags": []
   },
   "outputs": [],
   "source": [
    "%time gdf = geopandas.GeoDataFrame(df, geometry=geopandas.GeoSeries.from_wkb(df.geometry, crs=4326))\n",
    "gdf.head()"
   ]
  },
  {
   "cell_type": "code",
   "execution_count": null,
   "metadata": {
    "tags": []
   },
   "outputs": [],
   "source": [
    "gdf.dtypes"
   ]
  },
  {
   "cell_type": "markdown",
   "metadata": {
    "tags": []
   },
   "source": [
    "#### Side note\n",
    "\n",
    "The same would apply if you wanted to dump geometry to WKT/WKB. Do not use `wkt.dumps` or `wkb.dumps` on scalar geometries. Use `to_wkt` or `to_wkb` instead."
   ]
  },
  {
   "cell_type": "code",
   "execution_count": null,
   "metadata": {
    "tags": []
   },
   "outputs": [],
   "source": [
    "# do not use this code\n",
    "gdf.geometry.apply(wkb.dumps)"
   ]
  },
  {
   "cell_type": "code",
   "execution_count": null,
   "metadata": {
    "tags": []
   },
   "outputs": [],
   "source": [
    "gdf.to_wkt()"
   ]
  },
  {
   "cell_type": "code",
   "execution_count": null,
   "metadata": {
    "tags": []
   },
   "outputs": [],
   "source": [
    "gdf.to_wkb()"
   ]
  },
  {
   "cell_type": "markdown",
   "metadata": {
    "tags": []
   },
   "source": [
    "### Lines from points\n",
    "\n",
    "> **QUESTION:** I have coordinates representing trajectories. How do I create LineString geometries from those?"
   ]
  },
  {
   "cell_type": "code",
   "execution_count": null,
   "metadata": {
    "tags": []
   },
   "outputs": [],
   "source": [
    "df = pandas.DataFrame(\n",
    "    {\"lat\": latitude, \"lon\": longitude, \"traj_id\": numpy.repeat(numpy.arange(12500), 8)}\n",
    ")\n",
    "df"
   ]
  },
  {
   "cell_type": "markdown",
   "metadata": {},
   "source": [
    "#### The code of the past\n",
    "\n",
    "Using groupby-apply with a scalar `LineString` constructor after creation of `Point` geometry."
   ]
  },
  {
   "cell_type": "code",
   "execution_count": null,
   "metadata": {
    "tags": []
   },
   "outputs": [],
   "source": [
    "%%time\n",
    "# do not use this code\n",
    "grouped = df.groupby([\"traj_id\"])[[\"lon\", \"lat\"]].apply(lambda x: LineString(x))\n",
    "grouped = geopandas.GeoDataFrame(grouped.to_frame(\"geometry\"), crs=4326)\n",
    "grouped"
   ]
  },
  {
   "cell_type": "markdown",
   "metadata": {},
   "source": [
    "The same with unnecessary creating of Point geometry (a very common pattern and a top answer on StackOverflow)."
   ]
  },
  {
   "cell_type": "code",
   "execution_count": null,
   "metadata": {
    "tags": []
   },
   "outputs": [],
   "source": [
    "%%time\n",
    "# do not use this code\n",
    "geometry = [Point(xy) for xy in zip(df[\"lon\"], df[\"lat\"])]\n",
    "gdf = geopandas.GeoDataFrame(df.copy(), geometry=geometry)\n",
    "\n",
    "grouped = gdf.groupby(\"traj_id\")[\"geometry\"].apply(lambda x: LineString(x.tolist()))\n",
    "grouped = geopandas.GeoDataFrame(grouped, crs=4326)\n",
    "grouped"
   ]
  },
  {
   "cell_type": "markdown",
   "metadata": {},
   "source": [
    "#### The code of today\n",
    "\n",
    "Use `shapely.linestrings` constructor."
   ]
  },
  {
   "cell_type": "code",
   "execution_count": null,
   "metadata": {
    "tags": []
   },
   "outputs": [],
   "source": [
    "%%time\n",
    "gdf = geopandas.GeoDataFrame(\n",
    "    geometry=shapely.linestrings(df[[\"lon\", \"lat\"]], indices=df.traj_id),\n",
    ")\n",
    "gdf"
   ]
  },
  {
   "cell_type": "markdown",
   "metadata": {},
   "source": [
    "What if the trajectory index is not `0...N`?"
   ]
  },
  {
   "cell_type": "code",
   "execution_count": null,
   "metadata": {
    "tags": []
   },
   "outputs": [],
   "source": [
    "df[\"traj_id\"] = df[\"traj_id\"] * 3\n",
    "df"
   ]
  },
  {
   "cell_type": "markdown",
   "metadata": {},
   "source": [
    "Use `pandas.factorize` to enumerate unique values. But remember - the DataFrame should have all points belonging to a same trajectory together. Try sorting first if that is not the case."
   ]
  },
  {
   "cell_type": "code",
   "execution_count": null,
   "metadata": {
    "tags": []
   },
   "outputs": [],
   "source": [
    "%%time\n",
    "gdf = geopandas.GeoDataFrame(\n",
    "    geometry=shapely.linestrings(\n",
    "        df[[\"lon\", \"lat\"]], indices=pandas.factorize(df.traj_id)[0]\n",
    "    ),\n",
    "    crs=4326,\n",
    ")\n",
    "gdf"
   ]
  },
  {
   "cell_type": "markdown",
   "metadata": {},
   "source": [
    "What does `pandas.factorize` do?"
   ]
  },
  {
   "cell_type": "code",
   "execution_count": null,
   "metadata": {
    "tags": []
   },
   "outputs": [],
   "source": [
    "pandas.factorize(df.traj_id)"
   ]
  },
  {
   "cell_type": "markdown",
   "metadata": {},
   "source": [
    "You can use the other array as an index."
   ]
  },
  {
   "cell_type": "code",
   "execution_count": null,
   "metadata": {
    "tags": []
   },
   "outputs": [],
   "source": [
    "%%time\n",
    "indices, index = pandas.factorize(df.traj_id)\n",
    "gdf = geopandas.GeoDataFrame(\n",
    "    geometry=shapely.linestrings(df[[\"lon\", \"lat\"]], indices=indices),\n",
    "    index=index,\n",
    "    crs=4326,\n",
    ")\n",
    "gdf"
   ]
  },
  {
   "cell_type": "markdown",
   "metadata": {},
   "source": [
    "## Coordinate operations\n",
    "\n",
    "Sometimes you need to work with individual coordinates, not geometries.\n",
    "\n",
    "### Get coordinates as an array\n",
    "\n",
    "> **QUESTION:** How to list all coordinates of all vertices of LineStrings in my GeoDataFrame?"
   ]
  },
  {
   "cell_type": "code",
   "execution_count": null,
   "metadata": {
    "tags": []
   },
   "outputs": [],
   "source": [
    "gdf.head()"
   ]
  },
  {
   "cell_type": "markdown",
   "metadata": {},
   "source": [
    "#### The code of the past\n",
    "\n",
    "Looping through geometries and extracting coordinates via `.coords.xy`, then concatenating all together."
   ]
  },
  {
   "cell_type": "code",
   "execution_count": null,
   "metadata": {
    "tags": []
   },
   "outputs": [],
   "source": [
    "%%time\n",
    "# do not use this code\n",
    "coordinates = numpy.hstack([geom.coords.xy for geom in gdf.geometry]).T\n",
    "coordinates"
   ]
  },
  {
   "cell_type": "markdown",
   "metadata": {},
   "source": [
    "#### The code of today\n",
    "\n",
    "Use `shapely.get_coordinates` directly on a GeoSeries."
   ]
  },
  {
   "cell_type": "code",
   "execution_count": null,
   "metadata": {
    "tags": []
   },
   "outputs": [],
   "source": [
    "%%time\n",
    "coordinates = shapely.get_coordinates(gdf.geometry)\n",
    "coordinates"
   ]
  },
  {
   "cell_type": "markdown",
   "metadata": {},
   "source": [
    "You can even get an index."
   ]
  },
  {
   "cell_type": "code",
   "execution_count": null,
   "metadata": {
    "tags": []
   },
   "outputs": [],
   "source": [
    "%%time\n",
    "coordinates, index = shapely.get_coordinates(gdf.geometry, return_index=True)\n",
    "index"
   ]
  },
  {
   "cell_type": "markdown",
   "metadata": {
    "tags": []
   },
   "source": [
    "#### The code of the future (sneak-peek of upcoming GeoPandas 0.13)\n",
    "\n",
    "Use `GeoSeries.get_coordinates()`."
   ]
  },
  {
   "cell_type": "code",
   "execution_count": null,
   "metadata": {},
   "outputs": [],
   "source": [
    "%%time\n",
    "gdf.get_coordinates(index_parts=True)"
   ]
  },
  {
   "cell_type": "markdown",
   "metadata": {},
   "source": [
    "### Rounding coordinates\n",
    "\n",
    "> **QUESTION:** I would like to round the coordinates to 3 decimals. How?"
   ]
  },
  {
   "cell_type": "code",
   "execution_count": null,
   "metadata": {
    "tags": []
   },
   "outputs": [],
   "source": [
    "gdf.head()"
   ]
  },
  {
   "cell_type": "markdown",
   "metadata": {},
   "source": [
    "#### The code of the past\n",
    "\n",
    "Using formatting of a WKT representation and regex."
   ]
  },
  {
   "cell_type": "code",
   "execution_count": null,
   "metadata": {
    "tags": []
   },
   "outputs": [],
   "source": [
    "# do not use this code\n",
    "import re\n",
    "from shapely.wkt import loads\n",
    "\n",
    "\n",
    "def mround(match):\n",
    "    return \"{:.3f}\".format(float(match.group()))\n",
    "\n",
    "\n",
    "simpledec = re.compile(r\"\\d*\\.\\d+\")\n",
    "\n",
    "%time rounded = gdf.geometry.apply(lambda x: loads(re.sub(simpledec, mround, x.wkt)))\n",
    "rounded.head()"
   ]
  },
  {
   "cell_type": "markdown",
   "metadata": {},
   "source": [
    "#### The code of today\n",
    "\n",
    "Use `shapely.set_precision` on a GeoSeries."
   ]
  },
  {
   "cell_type": "code",
   "execution_count": null,
   "metadata": {
    "tags": []
   },
   "outputs": [],
   "source": [
    "%time shapely.set_precision(gdf.geometry, 0.001)"
   ]
  },
  {
   "cell_type": "markdown",
   "metadata": {},
   "source": [
    "As a bonus, you can specify how to handle geometries that became invalid due to the rounding. See the [documentation](https://shapely.readthedocs.io/en/stable/reference/shapely.set_precision.html?highlight=precision#shapely.set_precision).\n",
    "\n",
    "## Specify coordinate reference system (CRS)\n",
    "\n",
    "> **QUESTION:** How to specify a CRS in `to_crs` or `set_crs`?"
   ]
  },
  {
   "cell_type": "code",
   "execution_count": null,
   "metadata": {
    "tags": []
   },
   "outputs": [],
   "source": [
    "gdf.crs"
   ]
  },
  {
   "cell_type": "markdown",
   "metadata": {},
   "source": [
    "#### The code of the past\n",
    "\n",
    "Using the dictionary with an `init` key."
   ]
  },
  {
   "cell_type": "code",
   "execution_count": null,
   "metadata": {
    "tags": []
   },
   "outputs": [],
   "source": [
    "gdf.to_crs({'init': 'epsg:3857'})"
   ]
  },
  {
   "cell_type": "markdown",
   "metadata": {},
   "source": [
    "### The code of today\n",
    "\n",
    "Use anything accepted by [`pyproj.CRS.from_user_input()`](https://pyproj4.github.io/pyproj/stable/api/crs/crs.html#pyproj.crs.CRS.from_user_input) or an `epsg` keyword argument.\n",
    "\n",
    "- PROJ string\n",
    "- Dictionary of PROJ parameters\n",
    "- PROJ keyword arguments for parameters\n",
    "- JSON string with PROJ parameters\n",
    "- CRS WKT string\n",
    "- An authority string [i.e. 'epsg:4326']\n",
    "- An EPSG integer code [i.e. 4326]\n",
    "- A tuple of (\"auth_name\": \"auth_code\") [i.e ('epsg', '4326')]\n",
    "- An object with a `to_wkt` method.\n",
    "- A `pyproj.crs.CRS` class"
   ]
  },
  {
   "cell_type": "code",
   "execution_count": null,
   "metadata": {
    "tags": []
   },
   "outputs": [],
   "source": [
    "gdf.to_crs('epsg:3857')\n",
    "# or\n",
    "gdf.to_crs(3857)\n",
    "# or\n",
    "gdf.to_crs(epsg=3857)\n",
    "# or \n",
    "gdf.to_crs(('epsg', '4326'))"
   ]
  },
  {
   "cell_type": "markdown",
   "metadata": {},
   "source": [
    "## Interactive maps\n",
    "\n",
    "> **QUESTION:** How to create an interactive map from my GeoDataFrame?\n",
    "\n",
    "You can use a population grid from the great [AutoGIS course](https://autogis-site.readthedocs.io/en/latest/lessons/lesson-5/interactive-maps.html#add-a-polygon-layer)."
   ]
  },
  {
   "cell_type": "code",
   "execution_count": null,
   "metadata": {
    "tags": []
   },
   "outputs": [],
   "source": [
    "population_grid = (\n",
    "    geopandas.read_file(\n",
    "        \"https://kartta.hsy.fi/geoserver/wfs\"\n",
    "        \"?service=wfs\"\n",
    "        \"&version=2.0.0\"\n",
    "        \"&request=GetFeature\"\n",
    "        \"&typeName=asuminen_ja_maankaytto:Vaestotietoruudukko_2020\"\n",
    "        \"&srsName=EPSG:4326\"\n",
    "        \"&bbox=24.6,60.1,25.2,60.4,EPSG:4326\"\n",
    "    )\n",
    "    .set_crs(\"EPSG:4326\")\n",
    ")\n",
    "population_grid.head()"
   ]
  },
  {
   "cell_type": "markdown",
   "metadata": {},
   "source": [
    "### The code of the past\n",
    "\n",
    "Use `folium` to construct the interactive map."
   ]
  },
  {
   "cell_type": "code",
   "execution_count": null,
   "metadata": {
    "tags": []
   },
   "outputs": [],
   "source": [
    "# you can use this code, but it may be unnecessarily inconvenient\n",
    "import folium\n",
    "\n",
    "# define string ID\n",
    "population_grid[\"id\"] = population_grid.index.astype(str)\n",
    "\n",
    "# initialise map. You need to know the location and a zoom level upfront\n",
    "interactive_map = folium.Map(\n",
    "    location=(60.17, 24.94),\n",
    "    zoom_start=12\n",
    ")\n",
    "\n",
    "# create choropleth layer\n",
    "population_grid_layer = folium.Choropleth(\n",
    "    geo_data=population_grid,\n",
    "    data=population_grid,\n",
    "    columns=(\"id\", \"asukkaita\"),\n",
    "    key_on=\"feature.id\",\n",
    "    bins=9,\n",
    "    fill_color=\"YlOrRd\",\n",
    "    line_weight=0,\n",
    "    highlight=True\n",
    ")\n",
    "\n",
    "# add it to the map\n",
    "population_grid_layer.add_to(interactive_map)\n",
    "\n",
    "\n",
    "# define style function to hide the layer so we can use Tooltip over Choropleth\n",
    "def style_function(feature):\n",
    "    return {\n",
    "        \"color\": \"transparent\",\n",
    "        \"fillColor\": \"transparent\"\n",
    "    }\n",
    "\n",
    "# define tooltip\n",
    "tooltip = folium.features.GeoJsonTooltip(\n",
    "    fields=(\"asukkaita\",),\n",
    ")\n",
    "\n",
    "# define layer that can host tooltip\n",
    "tooltip_layer = folium.features.GeoJson(\n",
    "    population_grid,\n",
    "    style_function=style_function,\n",
    "    tooltip=tooltip\n",
    ")\n",
    "\n",
    "# add the layer with a tooltip to the map\n",
    "tooltip_layer.add_to(interactive_map)\n",
    "\n",
    "interactive_map"
   ]
  },
  {
   "cell_type": "markdown",
   "metadata": {},
   "source": [
    "### The code of today\n",
    "\n",
    "Use built-in `.explore()` method. It wraps `folium` under the hood but makes the whole process much easier.  "
   ]
  },
  {
   "cell_type": "code",
   "execution_count": null,
   "metadata": {
    "tags": []
   },
   "outputs": [],
   "source": [
    "population_grid.explore(\"asukkaita\", cmap=\"YlOrRd\", tooltip='asukkaita', style_kwds=dict(stroke=False))"
   ]
  },
  {
   "cell_type": "markdown",
   "metadata": {
    "tags": []
   },
   "source": [
    "## Distance operations"
   ]
  },
  {
   "cell_type": "raw",
   "metadata": {
    "tags": []
   },
   "source": [
    "food = pd.read_csv(\"../../../Downloads/Food_Establishment_Inspection_Data.csv\")\n",
    "food = food.drop_duplicates(subset=[\"Longitude\", \"Latitude\"])\n",
    "\n",
    "gdf_food = geopandas.GeoDataFrame(\n",
    "    food[[\"Name\", \"Address\", \"Business_ID\"]],\n",
    "    geometry=geopandas.points_from_xy(food[\"Longitude\"], food[\"Latitude\"]),\n",
    "    crs=\"EPSG:4326\"\n",
    ")\n",
    "\n",
    "gdf_food.reset_index(drop=True).to_file(\"data/food_establishments.gpkg\")"
   ]
  },
  {
   "cell_type": "code",
   "execution_count": 3,
   "metadata": {},
   "outputs": [],
   "source": [
    "homes = geopandas.read_file(\"data/sales.gpkg\", engine=\"pyogrio\").to_crs(\"EPSG:2926\")\n",
    "food = geopandas.read_file(\"data/food_establishments.gpkg\", engine=\"pyogrio\").to_crs(\"EPSG:2926\")"
   ]
  },
  {
   "cell_type": "code",
   "execution_count": 4,
   "metadata": {
    "tags": []
   },
   "outputs": [
    {
     "name": "stdout",
     "output_type": "stream",
     "text": [
      "21613 9595\n"
     ]
    }
   ],
   "source": [
    "print(len(homes), len(food))"
   ]
  },
  {
   "cell_type": "markdown",
   "metadata": {
    "tags": []
   },
   "source": [
    "### Pairwise distances\n",
    "\n",
    "> **QUESTION:** How to calculate the distance between all points of two GeoDataFrames?"
   ]
  },
  {
   "cell_type": "code",
   "execution_count": 5,
   "metadata": {
    "tags": []
   },
   "outputs": [
    {
     "name": "stdout",
     "output_type": "stream",
     "text": [
      "CPU times: user 4.24 s, sys: 64.5 ms, total: 4.3 s\n",
      "Wall time: 4.3 s\n"
     ]
    },
    {
     "data": {
      "text/html": [
       "<div>\n",
       "<style scoped>\n",
       "    .dataframe tbody tr th:only-of-type {\n",
       "        vertical-align: middle;\n",
       "    }\n",
       "\n",
       "    .dataframe tbody tr th {\n",
       "        vertical-align: top;\n",
       "    }\n",
       "\n",
       "    .dataframe thead th {\n",
       "        text-align: right;\n",
       "    }\n",
       "</style>\n",
       "<table border=\"1\" class=\"dataframe\">\n",
       "  <thead>\n",
       "    <tr style=\"text-align: right;\">\n",
       "      <th></th>\n",
       "      <th>0</th>\n",
       "      <th>1</th>\n",
       "      <th>2</th>\n",
       "      <th>3</th>\n",
       "      <th>4</th>\n",
       "      <th>5</th>\n",
       "      <th>6</th>\n",
       "      <th>7</th>\n",
       "      <th>8</th>\n",
       "      <th>9</th>\n",
       "      <th>...</th>\n",
       "      <th>9585</th>\n",
       "      <th>9586</th>\n",
       "      <th>9587</th>\n",
       "      <th>9588</th>\n",
       "      <th>9589</th>\n",
       "      <th>9590</th>\n",
       "      <th>9591</th>\n",
       "      <th>9592</th>\n",
       "      <th>9593</th>\n",
       "      <th>9594</th>\n",
       "    </tr>\n",
       "  </thead>\n",
       "  <tbody>\n",
       "    <tr>\n",
       "      <th>0</th>\n",
       "      <td>55971.619780</td>\n",
       "      <td>53509.492302</td>\n",
       "      <td>37679.166846</td>\n",
       "      <td>46768.762723</td>\n",
       "      <td>40144.710785</td>\n",
       "      <td>71048.298626</td>\n",
       "      <td>16675.542689</td>\n",
       "      <td>27616.595831</td>\n",
       "      <td>90104.480202</td>\n",
       "      <td>78976.073754</td>\n",
       "      <td>...</td>\n",
       "      <td>24416.712655</td>\n",
       "      <td>65264.628021</td>\n",
       "      <td>37524.190200</td>\n",
       "      <td>61485.612070</td>\n",
       "      <td>60468.708740</td>\n",
       "      <td>74737.039431</td>\n",
       "      <td>60855.044758</td>\n",
       "      <td>91935.696200</td>\n",
       "      <td>75698.327734</td>\n",
       "      <td>27870.632741</td>\n",
       "    </tr>\n",
       "    <tr>\n",
       "      <th>1</th>\n",
       "      <td>22118.613577</td>\n",
       "      <td>26838.171046</td>\n",
       "      <td>43728.200955</td>\n",
       "      <td>33696.889898</td>\n",
       "      <td>42019.163043</td>\n",
       "      <td>47251.595528</td>\n",
       "      <td>93046.554985</td>\n",
       "      <td>105435.928071</td>\n",
       "      <td>24109.573303</td>\n",
       "      <td>6504.622744</td>\n",
       "      <td>...</td>\n",
       "      <td>78420.682907</td>\n",
       "      <td>29468.778605</td>\n",
       "      <td>41947.137640</td>\n",
       "      <td>31986.353230</td>\n",
       "      <td>19334.633500</td>\n",
       "      <td>152632.328070</td>\n",
       "      <td>17285.801480</td>\n",
       "      <td>32099.320511</td>\n",
       "      <td>2674.849656</td>\n",
       "      <td>105726.978096</td>\n",
       "    </tr>\n",
       "    <tr>\n",
       "      <th>2</th>\n",
       "      <td>31687.106167</td>\n",
       "      <td>41194.084960</td>\n",
       "      <td>55369.717464</td>\n",
       "      <td>46569.167111</td>\n",
       "      <td>54479.276750</td>\n",
       "      <td>30640.734341</td>\n",
       "      <td>95643.345995</td>\n",
       "      <td>108743.912706</td>\n",
       "      <td>7376.635624</td>\n",
       "      <td>28458.792097</td>\n",
       "      <td>...</td>\n",
       "      <td>89337.784587</td>\n",
       "      <td>19289.033686</td>\n",
       "      <td>52264.919454</td>\n",
       "      <td>23329.161089</td>\n",
       "      <td>35206.570662</td>\n",
       "      <td>156998.558453</td>\n",
       "      <td>27894.225330</td>\n",
       "      <td>11164.225298</td>\n",
       "      <td>21122.821654</td>\n",
       "      <td>109098.097047</td>\n",
       "    </tr>\n",
       "    <tr>\n",
       "      <th>3</th>\n",
       "      <td>56854.664642</td>\n",
       "      <td>48648.804266</td>\n",
       "      <td>33111.076058</td>\n",
       "      <td>42273.479051</td>\n",
       "      <td>34073.460974</td>\n",
       "      <td>88184.408247</td>\n",
       "      <td>47182.056613</td>\n",
       "      <td>52098.719787</td>\n",
       "      <td>94574.753187</td>\n",
       "      <td>73360.603552</td>\n",
       "      <td>...</td>\n",
       "      <td>10439.414031</td>\n",
       "      <td>75642.486388</td>\n",
       "      <td>36445.858505</td>\n",
       "      <td>72947.255352</td>\n",
       "      <td>55996.721491</td>\n",
       "      <td>88324.767872</td>\n",
       "      <td>61074.665858</td>\n",
       "      <td>99264.139052</td>\n",
       "      <td>73722.904121</td>\n",
       "      <td>52087.393194</td>\n",
       "    </tr>\n",
       "    <tr>\n",
       "      <th>4</th>\n",
       "      <td>64165.449259</td>\n",
       "      <td>72312.717552</td>\n",
       "      <td>70854.904880</td>\n",
       "      <td>70849.242392</td>\n",
       "      <td>72423.219018</td>\n",
       "      <td>33738.115775</td>\n",
       "      <td>66167.042267</td>\n",
       "      <td>77575.441353</td>\n",
       "      <td>70002.173744</td>\n",
       "      <td>82905.867346</td>\n",
       "      <td>...</td>\n",
       "      <td>86448.493212</td>\n",
       "      <td>48163.278873</td>\n",
       "      <td>66945.502050</td>\n",
       "      <td>45501.966081</td>\n",
       "      <td>73457.813744</td>\n",
       "      <td>121194.261370</td>\n",
       "      <td>66127.359921</td>\n",
       "      <td>65209.648754</td>\n",
       "      <td>74983.649046</td>\n",
       "      <td>78024.109377</td>\n",
       "    </tr>\n",
       "    <tr>\n",
       "      <th>...</th>\n",
       "      <td>...</td>\n",
       "      <td>...</td>\n",
       "      <td>...</td>\n",
       "      <td>...</td>\n",
       "      <td>...</td>\n",
       "      <td>...</td>\n",
       "      <td>...</td>\n",
       "      <td>...</td>\n",
       "      <td>...</td>\n",
       "      <td>...</td>\n",
       "      <td>...</td>\n",
       "      <td>...</td>\n",
       "      <td>...</td>\n",
       "      <td>...</td>\n",
       "      <td>...</td>\n",
       "      <td>...</td>\n",
       "      <td>...</td>\n",
       "      <td>...</td>\n",
       "      <td>...</td>\n",
       "      <td>...</td>\n",
       "      <td>...</td>\n",
       "    </tr>\n",
       "    <tr>\n",
       "      <th>995</th>\n",
       "      <td>131834.226587</td>\n",
       "      <td>132523.623022</td>\n",
       "      <td>118394.403897</td>\n",
       "      <td>126424.370458</td>\n",
       "      <td>120917.430306</td>\n",
       "      <td>125937.764693</td>\n",
       "      <td>64914.820939</td>\n",
       "      <td>57399.145298</td>\n",
       "      <td>157645.302207</td>\n",
       "      <td>155862.600257</td>\n",
       "      <td>...</td>\n",
       "      <td>99141.138073</td>\n",
       "      <td>131122.507958</td>\n",
       "      <td>117370.723527</td>\n",
       "      <td>127117.547877</td>\n",
       "      <td>138550.002516</td>\n",
       "      <td>50470.896883</td>\n",
       "      <td>136339.790281</td>\n",
       "      <td>155963.656390</td>\n",
       "      <td>150644.904784</td>\n",
       "      <td>57409.596322</td>\n",
       "    </tr>\n",
       "    <tr>\n",
       "      <th>996</th>\n",
       "      <td>140434.603574</td>\n",
       "      <td>136424.368263</td>\n",
       "      <td>119458.253261</td>\n",
       "      <td>129411.095672</td>\n",
       "      <td>121596.996819</td>\n",
       "      <td>151801.796360</td>\n",
       "      <td>72561.476342</td>\n",
       "      <td>59333.699554</td>\n",
       "      <td>174849.631981</td>\n",
       "      <td>162475.104312</td>\n",
       "      <td>...</td>\n",
       "      <td>87479.241536</td>\n",
       "      <td>149404.912330</td>\n",
       "      <td>120541.553463</td>\n",
       "      <td>145475.244255</td>\n",
       "      <td>143809.882096</td>\n",
       "      <td>12362.039430</td>\n",
       "      <td>145322.249675</td>\n",
       "      <td>176183.355136</td>\n",
       "      <td>160051.802746</td>\n",
       "      <td>58940.824476</td>\n",
       "    </tr>\n",
       "    <tr>\n",
       "      <th>997</th>\n",
       "      <td>8362.604435</td>\n",
       "      <td>8373.247073</td>\n",
       "      <td>25288.007771</td>\n",
       "      <td>15230.686382</td>\n",
       "      <td>23538.890483</td>\n",
       "      <td>48235.280390</td>\n",
       "      <td>76392.993959</td>\n",
       "      <td>88351.491897</td>\n",
       "      <td>38800.679551</td>\n",
       "      <td>18238.314457</td>\n",
       "      <td>...</td>\n",
       "      <td>59939.809637</td>\n",
       "      <td>29638.323464</td>\n",
       "      <td>23779.278759</td>\n",
       "      <td>29833.929325</td>\n",
       "      <td>1380.842190</td>\n",
       "      <td>134940.187066</td>\n",
       "      <td>7426.151666</td>\n",
       "      <td>45043.830812</td>\n",
       "      <td>16756.824837</td>\n",
       "      <td>88616.959581</td>\n",
       "    </tr>\n",
       "    <tr>\n",
       "      <th>998</th>\n",
       "      <td>120727.448282</td>\n",
       "      <td>121338.848742</td>\n",
       "      <td>107209.707031</td>\n",
       "      <td>115231.415549</td>\n",
       "      <td>109733.255195</td>\n",
       "      <td>115889.293805</td>\n",
       "      <td>53845.520787</td>\n",
       "      <td>46882.400163</td>\n",
       "      <td>147027.007431</td>\n",
       "      <td>144754.627850</td>\n",
       "      <td>...</td>\n",
       "      <td>88533.990169</td>\n",
       "      <td>120457.133618</td>\n",
       "      <td>106177.073212</td>\n",
       "      <td>116435.431345</td>\n",
       "      <td>127387.635527</td>\n",
       "      <td>47959.196755</td>\n",
       "      <td>125254.550429</td>\n",
       "      <td>145562.976141</td>\n",
       "      <td>139608.582460</td>\n",
       "      <td>46926.365476</td>\n",
       "    </tr>\n",
       "    <tr>\n",
       "      <th>999</th>\n",
       "      <td>124086.403781</td>\n",
       "      <td>119768.976491</td>\n",
       "      <td>102755.228303</td>\n",
       "      <td>112747.711275</td>\n",
       "      <td>104856.363800</td>\n",
       "      <td>137422.217502</td>\n",
       "      <td>57874.955371</td>\n",
       "      <td>44847.197093</td>\n",
       "      <td>159049.234750</td>\n",
       "      <td>145843.126453</td>\n",
       "      <td>...</td>\n",
       "      <td>70495.474667</td>\n",
       "      <td>133969.061243</td>\n",
       "      <td>103962.706198</td>\n",
       "      <td>130097.218028</td>\n",
       "      <td>127192.715790</td>\n",
       "      <td>13310.850692</td>\n",
       "      <td>128965.163730</td>\n",
       "      <td>160725.287584</td>\n",
       "      <td>143626.230085</td>\n",
       "      <td>44422.745060</td>\n",
       "    </tr>\n",
       "  </tbody>\n",
       "</table>\n",
       "<p>1000 rows × 9595 columns</p>\n",
       "</div>"
      ],
      "text/plain": [
       "              0              1              2              3     \\\n",
       "0     55971.619780   53509.492302   37679.166846   46768.762723   \n",
       "1     22118.613577   26838.171046   43728.200955   33696.889898   \n",
       "2     31687.106167   41194.084960   55369.717464   46569.167111   \n",
       "3     56854.664642   48648.804266   33111.076058   42273.479051   \n",
       "4     64165.449259   72312.717552   70854.904880   70849.242392   \n",
       "..             ...            ...            ...            ...   \n",
       "995  131834.226587  132523.623022  118394.403897  126424.370458   \n",
       "996  140434.603574  136424.368263  119458.253261  129411.095672   \n",
       "997    8362.604435    8373.247073   25288.007771   15230.686382   \n",
       "998  120727.448282  121338.848742  107209.707031  115231.415549   \n",
       "999  124086.403781  119768.976491  102755.228303  112747.711275   \n",
       "\n",
       "              4              5             6              7              8     \\\n",
       "0     40144.710785   71048.298626  16675.542689   27616.595831   90104.480202   \n",
       "1     42019.163043   47251.595528  93046.554985  105435.928071   24109.573303   \n",
       "2     54479.276750   30640.734341  95643.345995  108743.912706    7376.635624   \n",
       "3     34073.460974   88184.408247  47182.056613   52098.719787   94574.753187   \n",
       "4     72423.219018   33738.115775  66167.042267   77575.441353   70002.173744   \n",
       "..             ...            ...           ...            ...            ...   \n",
       "995  120917.430306  125937.764693  64914.820939   57399.145298  157645.302207   \n",
       "996  121596.996819  151801.796360  72561.476342   59333.699554  174849.631981   \n",
       "997   23538.890483   48235.280390  76392.993959   88351.491897   38800.679551   \n",
       "998  109733.255195  115889.293805  53845.520787   46882.400163  147027.007431   \n",
       "999  104856.363800  137422.217502  57874.955371   44847.197093  159049.234750   \n",
       "\n",
       "              9     ...          9585           9586           9587  \\\n",
       "0     78976.073754  ...  24416.712655   65264.628021   37524.190200   \n",
       "1      6504.622744  ...  78420.682907   29468.778605   41947.137640   \n",
       "2     28458.792097  ...  89337.784587   19289.033686   52264.919454   \n",
       "3     73360.603552  ...  10439.414031   75642.486388   36445.858505   \n",
       "4     82905.867346  ...  86448.493212   48163.278873   66945.502050   \n",
       "..             ...  ...           ...            ...            ...   \n",
       "995  155862.600257  ...  99141.138073  131122.507958  117370.723527   \n",
       "996  162475.104312  ...  87479.241536  149404.912330  120541.553463   \n",
       "997   18238.314457  ...  59939.809637   29638.323464   23779.278759   \n",
       "998  144754.627850  ...  88533.990169  120457.133618  106177.073212   \n",
       "999  145843.126453  ...  70495.474667  133969.061243  103962.706198   \n",
       "\n",
       "              9588           9589           9590           9591  \\\n",
       "0     61485.612070   60468.708740   74737.039431   60855.044758   \n",
       "1     31986.353230   19334.633500  152632.328070   17285.801480   \n",
       "2     23329.161089   35206.570662  156998.558453   27894.225330   \n",
       "3     72947.255352   55996.721491   88324.767872   61074.665858   \n",
       "4     45501.966081   73457.813744  121194.261370   66127.359921   \n",
       "..             ...            ...            ...            ...   \n",
       "995  127117.547877  138550.002516   50470.896883  136339.790281   \n",
       "996  145475.244255  143809.882096   12362.039430  145322.249675   \n",
       "997   29833.929325    1380.842190  134940.187066    7426.151666   \n",
       "998  116435.431345  127387.635527   47959.196755  125254.550429   \n",
       "999  130097.218028  127192.715790   13310.850692  128965.163730   \n",
       "\n",
       "              9592           9593           9594  \n",
       "0     91935.696200   75698.327734   27870.632741  \n",
       "1     32099.320511    2674.849656  105726.978096  \n",
       "2     11164.225298   21122.821654  109098.097047  \n",
       "3     99264.139052   73722.904121   52087.393194  \n",
       "4     65209.648754   74983.649046   78024.109377  \n",
       "..             ...            ...            ...  \n",
       "995  155963.656390  150644.904784   57409.596322  \n",
       "996  176183.355136  160051.802746   58940.824476  \n",
       "997   45043.830812   16756.824837   88616.959581  \n",
       "998  145562.976141  139608.582460   46926.365476  \n",
       "999  160725.287584  143626.230085   44422.745060  \n",
       "\n",
       "[1000 rows x 9595 columns]"
      ]
     },
     "execution_count": 5,
     "metadata": {},
     "output_type": "execute_result"
    }
   ],
   "source": [
    "%%time\n",
    "homes[:1000].geometry.apply(lambda geom: food.distance(geom))"
   ]
  },
  {
   "cell_type": "code",
   "execution_count": 6,
   "metadata": {
    "tags": []
   },
   "outputs": [
    {
     "name": "stdout",
     "output_type": "stream",
     "text": [
      "CPU times: user 4.38 s, sys: 8.84 ms, total: 4.39 s\n",
      "Wall time: 4.39 s\n"
     ]
    },
    {
     "data": {
      "text/plain": [
       "array([[ 55971.61978011,  53509.49230159,  37679.16684576, ...,\n",
       "         91935.69620004,  75698.32773388,  27870.63274051],\n",
       "       [ 22118.61357747,  26838.17104637,  43728.2009546 , ...,\n",
       "         32099.32051103,   2674.8496556 , 105726.97809612],\n",
       "       [ 31687.10616708,  41194.08496025,  55369.71746413, ...,\n",
       "         11164.2252977 ,  21122.82165427, 109098.09704707],\n",
       "       ...,\n",
       "       [  8362.60443455,   8373.24707282,  25288.00777085, ...,\n",
       "         45043.83081178,  16756.82483665,  88616.95958064],\n",
       "       [120727.44828204, 121338.84874241, 107209.70703059, ...,\n",
       "        145562.97614113, 139608.58245991,  46926.36547589],\n",
       "       [124086.40378131, 119768.97649102, 102755.22830292, ...,\n",
       "        160725.28758407, 143626.23008534,  44422.74506001]])"
      ]
     },
     "execution_count": 6,
     "metadata": {},
     "output_type": "execute_result"
    }
   ],
   "source": [
    "%%time\n",
    "shapely.distance(np.asarray(homes[:1000].geometry)[:, np.newaxis], np.asarray(food.geometry)[np.newaxis, :])"
   ]
  },
  {
   "cell_type": "markdown",
   "metadata": {},
   "source": [
    "### Distance to nearest point\n",
    "\n",
    "> **QUESTION:** How to calculate the distance to the nearest feature of another GeoDataFrame?"
   ]
  },
  {
   "cell_type": "markdown",
   "metadata": {},
   "source": [
    "#### The code of the past\n",
    "\n",
    "Using a brute-force calculation of the distance for all points and taking the minimum:"
   ]
  },
  {
   "cell_type": "code",
   "execution_count": 7,
   "metadata": {
    "tags": []
   },
   "outputs": [
    {
     "name": "stdout",
     "output_type": "stream",
     "text": [
      "CPU times: user 4.74 s, sys: 0 ns, total: 4.74 s\n",
      "Wall time: 4.74 s\n"
     ]
    },
    {
     "data": {
      "text/plain": [
       "0      1381.123133\n",
       "1       873.387816\n",
       "2       591.259216\n",
       "3       639.728786\n",
       "4      1899.817107\n",
       "          ...     \n",
       "995    1404.505477\n",
       "996     102.483623\n",
       "997     949.162907\n",
       "998    3309.531520\n",
       "999    2022.061672\n",
       "Name: geometry, Length: 1000, dtype: float64"
      ]
     },
     "execution_count": 7,
     "metadata": {},
     "output_type": "execute_result"
    }
   ],
   "source": [
    "%%time\n",
    "# do not use this code\n",
    "# only taking the first 1000 rows (1/20th of full dataset)\n",
    "homes[:1000].geometry.apply(lambda geom: food.distance(geom).min())"
   ]
  },
  {
   "cell_type": "markdown",
   "metadata": {},
   "source": [
    "Using the shapely's `nearest_point` to get the nearest point and only calculate the distance for this point:"
   ]
  },
  {
   "cell_type": "code",
   "execution_count": 8,
   "metadata": {
    "tags": []
   },
   "outputs": [],
   "source": [
    "from shapely.ops import nearest_points"
   ]
  },
  {
   "cell_type": "code",
   "execution_count": 9,
   "metadata": {
    "tags": []
   },
   "outputs": [
    {
     "name": "stdout",
     "output_type": "stream",
     "text": [
      "CPU times: user 995 ms, sys: 0 ns, total: 995 ms\n",
      "Wall time: 996 ms\n"
     ]
    },
    {
     "data": {
      "text/plain": [
       "0      1381.123133\n",
       "1       873.387816\n",
       "2       591.259216\n",
       "3       639.728786\n",
       "4      1899.817107\n",
       "          ...     \n",
       "995    1404.505477\n",
       "996     102.483623\n",
       "997     949.162907\n",
       "998    3309.531520\n",
       "999    2022.061672\n",
       "Name: geometry, Length: 1000, dtype: float64"
      ]
     },
     "execution_count": 9,
     "metadata": {},
     "output_type": "execute_result"
    }
   ],
   "source": [
    "%%time\n",
    "# do not use this code\n",
    "\n",
    "# unary union of the right geomtries (food establishment locations) \n",
    "points = food.geometry.unary_union\n",
    "\n",
    "def nearest_dist(point, other=points):\n",
    "    # find the nearest point and return the distance to that point\n",
    "    nearest = nearest_points(point, other)[1]\n",
    "    return point.distance(nearest)\n",
    "\n",
    "homes[:1000].geometry.apply(lambda geom: nearest_dist(geom))"
   ]
  },
  {
   "cell_type": "markdown",
   "metadata": {},
   "source": [
    "#### The code of today\n",
    "\n",
    "Use `sjoin_nearest` with returning the distance:"
   ]
  },
  {
   "cell_type": "code",
   "execution_count": 10,
   "metadata": {
    "tags": []
   },
   "outputs": [
    {
     "name": "stdout",
     "output_type": "stream",
     "text": [
      "CPU times: user 393 ms, sys: 4.02 ms, total: 397 ms\n",
      "Wall time: 399 ms\n"
     ]
    },
    {
     "data": {
      "text/html": [
       "<div>\n",
       "<style scoped>\n",
       "    .dataframe tbody tr th:only-of-type {\n",
       "        vertical-align: middle;\n",
       "    }\n",
       "\n",
       "    .dataframe tbody tr th {\n",
       "        vertical-align: top;\n",
       "    }\n",
       "\n",
       "    .dataframe thead th {\n",
       "        text-align: right;\n",
       "    }\n",
       "</style>\n",
       "<table border=\"1\" class=\"dataframe\">\n",
       "  <thead>\n",
       "    <tr style=\"text-align: right;\">\n",
       "      <th></th>\n",
       "      <th>price</th>\n",
       "      <th>bedrooms</th>\n",
       "      <th>geometry</th>\n",
       "      <th>index_right</th>\n",
       "      <th>distance</th>\n",
       "    </tr>\n",
       "  </thead>\n",
       "  <tbody>\n",
       "    <tr>\n",
       "      <th>0</th>\n",
       "      <td>221900.0</td>\n",
       "      <td>3.0</td>\n",
       "      <td>POINT (1288600.213 189722.864)</td>\n",
       "      <td>2976</td>\n",
       "      <td>1381.123133</td>\n",
       "    </tr>\n",
       "    <tr>\n",
       "      <th>1</th>\n",
       "      <td>538000.0</td>\n",
       "      <td>3.0</td>\n",
       "      <td>POINT (1274757.775 266526.003)</td>\n",
       "      <td>1825</td>\n",
       "      <td>873.387816</td>\n",
       "    </tr>\n",
       "    <tr>\n",
       "      <th>2</th>\n",
       "      <td>180000.0</td>\n",
       "      <td>2.0</td>\n",
       "      <td>POINT (1296034.393 272292.738)</td>\n",
       "      <td>5757</td>\n",
       "      <td>591.259216</td>\n",
       "    </tr>\n",
       "    <tr>\n",
       "      <th>3</th>\n",
       "      <td>604000.0</td>\n",
       "      <td>4.0</td>\n",
       "      <td>POINT (1255066.919 193875.327)</td>\n",
       "      <td>2992</td>\n",
       "      <td>639.728786</td>\n",
       "    </tr>\n",
       "    <tr>\n",
       "      <th>4</th>\n",
       "      <td>510000.0</td>\n",
       "      <td>3.0</td>\n",
       "      <td>POINT (1341591.923 227340.234)</td>\n",
       "      <td>1148</td>\n",
       "      <td>1899.817107</td>\n",
       "    </tr>\n",
       "    <tr>\n",
       "      <th>...</th>\n",
       "      <td>...</td>\n",
       "      <td>...</td>\n",
       "      <td>...</td>\n",
       "      <td>...</td>\n",
       "      <td>...</td>\n",
       "    </tr>\n",
       "    <tr>\n",
       "      <th>21608</th>\n",
       "      <td>360000.0</td>\n",
       "      <td>3.0</td>\n",
       "      <td>POINT (1267957.622 258741.556)</td>\n",
       "      <td>8604</td>\n",
       "      <td>385.859981</td>\n",
       "    </tr>\n",
       "    <tr>\n",
       "      <th>21609</th>\n",
       "      <td>400000.0</td>\n",
       "      <td>4.0</td>\n",
       "      <td>POINT (1262652.024 190038.241)</td>\n",
       "      <td>7563</td>\n",
       "      <td>1307.039875</td>\n",
       "    </tr>\n",
       "    <tr>\n",
       "      <th>21610</th>\n",
       "      <td>402101.0</td>\n",
       "      <td>2.0</td>\n",
       "      <td>POINT (1278800.266 220260.644)</td>\n",
       "      <td>6316</td>\n",
       "      <td>866.514612</td>\n",
       "    </tr>\n",
       "    <tr>\n",
       "      <th>21611</th>\n",
       "      <td>400000.0</td>\n",
       "      <td>3.0</td>\n",
       "      <td>POINT (1335191.404 197418.062)</td>\n",
       "      <td>4729</td>\n",
       "      <td>685.778669</td>\n",
       "    </tr>\n",
       "    <tr>\n",
       "      <th>21612</th>\n",
       "      <td>325000.0</td>\n",
       "      <td>2.0</td>\n",
       "      <td>POINT (1278798.182 220151.234)</td>\n",
       "      <td>6316</td>\n",
       "      <td>934.191865</td>\n",
       "    </tr>\n",
       "  </tbody>\n",
       "</table>\n",
       "<p>21613 rows × 5 columns</p>\n",
       "</div>"
      ],
      "text/plain": [
       "          price  bedrooms                        geometry  index_right  \\\n",
       "0      221900.0       3.0  POINT (1288600.213 189722.864)         2976   \n",
       "1      538000.0       3.0  POINT (1274757.775 266526.003)         1825   \n",
       "2      180000.0       2.0  POINT (1296034.393 272292.738)         5757   \n",
       "3      604000.0       4.0  POINT (1255066.919 193875.327)         2992   \n",
       "4      510000.0       3.0  POINT (1341591.923 227340.234)         1148   \n",
       "...         ...       ...                             ...          ...   \n",
       "21608  360000.0       3.0  POINT (1267957.622 258741.556)         8604   \n",
       "21609  400000.0       4.0  POINT (1262652.024 190038.241)         7563   \n",
       "21610  402101.0       2.0  POINT (1278800.266 220260.644)         6316   \n",
       "21611  400000.0       3.0  POINT (1335191.404 197418.062)         4729   \n",
       "21612  325000.0       2.0  POINT (1278798.182 220151.234)         6316   \n",
       "\n",
       "          distance  \n",
       "0      1381.123133  \n",
       "1       873.387816  \n",
       "2       591.259216  \n",
       "3       639.728786  \n",
       "4      1899.817107  \n",
       "...            ...  \n",
       "21608   385.859981  \n",
       "21609  1307.039875  \n",
       "21610   866.514612  \n",
       "21611   685.778669  \n",
       "21612   934.191865  \n",
       "\n",
       "[21613 rows x 5 columns]"
      ]
     },
     "execution_count": 10,
     "metadata": {},
     "output_type": "execute_result"
    }
   ],
   "source": [
    "%%time\n",
    "# this is now with the full dataset (size x20) !!\n",
    "homes.sjoin_nearest(food[[\"geometry\"]], how=\"left\", distance_col=\"distance\")"
   ]
  },
  {
   "cell_type": "markdown",
   "metadata": {},
   "source": [
    "If you only need the distances (and not joined dataframes), you can also use the spatial index directly:"
   ]
  },
  {
   "cell_type": "code",
   "execution_count": 11,
   "metadata": {
    "tags": []
   },
   "outputs": [
    {
     "name": "stdout",
     "output_type": "stream",
     "text": [
      "CPU times: user 360 ms, sys: 3.94 ms, total: 364 ms\n",
      "Wall time: 362 ms\n"
     ]
    },
    {
     "data": {
      "text/plain": [
       "array([1381.12313323,  873.38781603,  591.25921553, ...,  866.51461204,\n",
       "        685.77866919,  934.19186503])"
      ]
     },
     "execution_count": 11,
     "metadata": {},
     "output_type": "execute_result"
    }
   ],
   "source": [
    "%%time\n",
    "tree = shapely.STRtree(food.geometry)\n",
    "indices, distances = tree.query_nearest(homes.geometry, all_matches=False, return_distance=True)\n",
    "distances"
   ]
  },
  {
   "cell_type": "markdown",
   "metadata": {},
   "source": [
    "### Distance to all points within a search radius\n",
    "\n",
    "> **QUESTION:** How to calculate the distance between all points of two GeoDataFrames, but limited to distances below a certain threshold?"
   ]
  },
  {
   "cell_type": "markdown",
   "metadata": {},
   "source": [
    "With many features, doing the full pairwise distance calculation is costly (and gives a large matrix as result). If you want more than just the nearest, another option is to limit it calculate the distance to points within a certain distance:"
   ]
  },
  {
   "cell_type": "code",
   "execution_count": 12,
   "metadata": {
    "tags": []
   },
   "outputs": [],
   "source": [
    "tree = shapely.STRtree(food.geometry)"
   ]
  },
  {
   "cell_type": "code",
   "execution_count": 13,
   "metadata": {
    "tags": []
   },
   "outputs": [
    {
     "name": "stdout",
     "output_type": "stream",
     "text": [
      "CPU times: user 1.33 s, sys: 7.16 ms, total: 1.34 s\n",
      "Wall time: 1.34 s\n"
     ]
    },
    {
     "data": {
      "text/plain": [
       "array([4751.53915679, 3628.43746316, 1453.00709077, ..., 3839.70194129,\n",
       "       3839.70591763, 3839.44665143])"
      ]
     },
     "execution_count": 13,
     "metadata": {},
     "output_type": "execute_result"
    }
   ],
   "source": [
    "%%time\n",
    "idx1, idx2 = tree.query(homes.geometry, predicate=\"dwithin\", distance=5_000)\n",
    "distances = shapely.distance(np.asarray(homes.geometry)[idx1], np.asarray(food.geometry)[idx2])\n",
    "distances"
   ]
  },
  {
   "cell_type": "code",
   "execution_count": 14,
   "metadata": {
    "tags": []
   },
   "outputs": [
    {
     "data": {
      "text/plain": [
       "1184314"
      ]
     },
     "execution_count": 14,
     "metadata": {},
     "output_type": "execute_result"
    }
   ],
   "source": [
    "len(distances)"
   ]
  },
  {
   "cell_type": "markdown",
   "metadata": {},
   "source": [
    "## Merge overlapping or touching polygons (note: do spatial predicates first, this is just an application in principle)\n",
    "\n",
    "**QUESTION:** How can I merge all polygons that overlap into one?"
   ]
  },
  {
   "cell_type": "code",
   "execution_count": null,
   "metadata": {
    "tags": []
   },
   "outputs": [],
   "source": [
    "gdf"
   ]
  },
  {
   "cell_type": "code",
   "execution_count": null,
   "metadata": {
    "tags": []
   },
   "outputs": [],
   "source": [
    "s = geopandas.GeoDataFrame(geometry=[Polygon([(0, 0), (0, 2), (2, 2), (2, 0)]), Polygon([(0, 1), (0, 3), (2, 3), (2, 1)]),Polygon([(1, 0), (1, 2), (3, 2), (3, 0)]), Polygon([(4, 4), (4, 6), (6, 6), (6, 4)])])\n",
    "s.plot(cmap='tab10', alpha=.5)"
   ]
  },
  {
   "cell_type": "markdown",
   "metadata": {},
   "source": [
    "### The code of the past\n",
    "\n",
    "Create a connectivity matrix using spatial predicates like `overlaps` to get group overlapping polygons."
   ]
  },
  {
   "cell_type": "code",
   "execution_count": null,
   "metadata": {
    "tags": []
   },
   "outputs": [],
   "source": [
    "from scipy.sparse.csgraph import connected_components"
   ]
  },
  {
   "cell_type": "code",
   "execution_count": null,
   "metadata": {
    "tags": []
   },
   "outputs": [],
   "source": [
    "%%timeit\n",
    "# do not use this code\n",
    "overlap_matrix = s.geometry.apply(lambda x: s.overlaps(x)).values.astype(int)\n",
    "n, ids = connected_components(overlap_matrix)"
   ]
  },
  {
   "cell_type": "code",
   "execution_count": null,
   "metadata": {
    "tags": []
   },
   "outputs": [],
   "source": [
    "s.dissolve(ids).plot(cmap='tab10', alpha=.5)"
   ]
  },
  {
   "cell_type": "markdown",
   "metadata": {},
   "source": [
    "The overlap matrix will have the shape `(N, N)`. That can be **a lot** of values, while most of them will be 0."
   ]
  },
  {
   "cell_type": "code",
   "execution_count": null,
   "metadata": {
    "tags": []
   },
   "outputs": [],
   "source": [
    "overlap_matrix"
   ]
  },
  {
   "cell_type": "markdown",
   "metadata": {
    "tags": []
   },
   "source": [
    "### The code of today\n",
    "\n",
    "Use spatial index query to create the connectivity matrix as a sparse array."
   ]
  },
  {
   "cell_type": "code",
   "execution_count": null,
   "metadata": {
    "tags": []
   },
   "outputs": [],
   "source": [
    "from scipy.sparse import coo_array"
   ]
  },
  {
   "cell_type": "code",
   "execution_count": null,
   "metadata": {
    "tags": []
   },
   "outputs": [],
   "source": [
    "%%timeit\n",
    "right_index, left_index = s.sindex.query_bulk(s.geometry, predicate=\"overlaps\")\n",
    "connectivity = coo_array(\n",
    "        (\n",
    "            numpy.ones(right_index.shape, dtype=bool),\n",
    "            (right_index, left_index),\n",
    "        ),\n",
    "        shape=(s.shape[0], s.shape[0]),\n",
    "        dtype=bool,\n",
    "    )\n",
    "n, ids = connected_components(connectivity)"
   ]
  },
  {
   "cell_type": "code",
   "execution_count": null,
   "metadata": {
    "tags": []
   },
   "outputs": [],
   "source": [
    "s.dissolve(ids).plot(cmap='tab10', alpha=.5)"
   ]
  },
  {
   "cell_type": "markdown",
   "metadata": {},
   "source": [
    "This is would the connectivy looked if dense. But since it is sparse, neither of False is stored."
   ]
  },
  {
   "cell_type": "code",
   "execution_count": null,
   "metadata": {
    "tags": []
   },
   "outputs": [],
   "source": [
    "connectivity.todense()"
   ]
  },
  {
   "cell_type": "markdown",
   "metadata": {},
   "source": [
    "More convenient option would be to use external library from the geopandas ecosystem. This will create the sparse matrix for you."
   ]
  },
  {
   "cell_type": "code",
   "execution_count": null,
   "metadata": {
    "tags": []
   },
   "outputs": [],
   "source": [
    "import libpysal"
   ]
  },
  {
   "cell_type": "code",
   "execution_count": null,
   "metadata": {
    "tags": []
   },
   "outputs": [],
   "source": [
    "connectivity = libpysal.weights.fuzzy_contiguity(s, predicate=\"overlaps\")"
   ]
  },
  {
   "cell_type": "code",
   "execution_count": null,
   "metadata": {
    "tags": []
   },
   "outputs": [],
   "source": [
    "s.dissolve(connectivity.component_labels).plot(cmap='tab10', alpha=.5)"
   ]
  },
  {
   "cell_type": "markdown",
   "metadata": {},
   "source": [
    "If you were interested in topological contguity, using `Queen` weights constructor will be even faster."
   ]
  },
  {
   "cell_type": "code",
   "execution_count": null,
   "metadata": {},
   "outputs": [],
   "source": [
    "connectivity = libpysal.weights.Queen.from_dataframe(s)"
   ]
  },
  {
   "cell_type": "code",
   "execution_count": null,
   "metadata": {},
   "outputs": [],
   "source": []
  }
 ],
 "metadata": {
  "kernelspec": {
   "display_name": "Python 3 (ipykernel)",
   "language": "python",
   "name": "python3"
  },
  "language_info": {
   "codemirror_mode": {
    "name": "ipython",
    "version": 3
   },
   "file_extension": ".py",
   "mimetype": "text/x-python",
   "name": "python",
   "nbconvert_exporter": "python",
   "pygments_lexer": "ipython3",
   "version": "3.11.0"
  },
  "vscode": {
   "interpreter": {
    "hash": "029493424c262204dc2a0b83d1ac63e4e0f746dccf0eac8b34673e62335cac43"
   }
  }
 },
 "nbformat": 4,
 "nbformat_minor": 4
}
