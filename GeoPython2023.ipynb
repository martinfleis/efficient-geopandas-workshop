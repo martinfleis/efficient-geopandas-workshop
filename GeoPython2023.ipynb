{
 "cells": [
  {
   "attachments": {},
   "cell_type": "markdown",
   "metadata": {},
   "source": [
    "# Writing an efficient code for GeoPandas and Shapely in 2023\n",
    "\n",
    "With the release of Shapely 2.0, the GeoPandas-based code that have been optimised years ago may no longer provide the best performance. This workshop will show you how to change that and write efficient and convenient GeoPandas code that uses the benefits of the latest developments in the Python geospatial ecosystem."
   ]
  },
  {
   "cell_type": "code",
   "execution_count": 1,
   "metadata": {},
   "outputs": [],
   "source": [
    "import geopandas"
   ]
  },
  {
   "cell_type": "code",
   "execution_count": 2,
   "metadata": {},
   "outputs": [
    {
     "name": "stdout",
     "output_type": "stream",
     "text": [
      "\n",
      "SYSTEM INFO\n",
      "-----------\n",
      "python     : 3.11.0 | packaged by conda-forge | (main, Jan 14 2023, 12:26:40) [Clang 14.0.6 ]\n",
      "executable : /Users/martin/mambaforge/envs/geopandas-workshop/bin/python\n",
      "machine    : macOS-13.0-arm64-arm-64bit\n",
      "\n",
      "GEOS, GDAL, PROJ INFO\n",
      "---------------------\n",
      "GEOS       : 3.11.1\n",
      "GEOS lib   : None\n",
      "GDAL       : 3.6.2\n",
      "GDAL data dir: /Users/martin/mambaforge/envs/geopandas-workshop/share/gdal\n",
      "PROJ       : 9.1.1\n",
      "PROJ data dir: /Users/martin/mambaforge/envs/geopandas-workshop/share/proj\n",
      "\n",
      "PYTHON DEPENDENCIES\n",
      "-------------------\n",
      "geopandas  : 0.12.2\n",
      "numpy      : 1.24.2\n",
      "pandas     : 1.5.3\n",
      "pyproj     : 3.4.1\n",
      "shapely    : 2.0.1\n",
      "fiona      : 1.9.1\n",
      "geoalchemy2: None\n",
      "geopy      : None\n",
      "matplotlib : 3.7.0\n",
      "mapclassify: 2.5.0\n",
      "pygeos     : None\n",
      "pyogrio    : 0.5.1\n",
      "psycopg2   : None\n",
      "pyarrow    : 11.0.0\n",
      "rtree      : 1.0.1\n"
     ]
    }
   ],
   "source": [
    "geopandas.show_versions()"
   ]
  },
  {
   "cell_type": "code",
   "execution_count": null,
   "metadata": {},
   "outputs": [],
   "source": []
  }
 ],
 "metadata": {
  "kernelspec": {
   "display_name": "geopandas-workshop",
   "language": "python",
   "name": "python3"
  },
  "language_info": {
   "codemirror_mode": {
    "name": "ipython",
    "version": 3
   },
   "file_extension": ".py",
   "mimetype": "text/x-python",
   "name": "python",
   "nbconvert_exporter": "python",
   "pygments_lexer": "ipython3",
   "version": "3.11.0"
  },
  "orig_nbformat": 4,
  "vscode": {
   "interpreter": {
    "hash": "029493424c262204dc2a0b83d1ac63e4e0f746dccf0eac8b34673e62335cac43"
   }
  }
 },
 "nbformat": 4,
 "nbformat_minor": 2
}
