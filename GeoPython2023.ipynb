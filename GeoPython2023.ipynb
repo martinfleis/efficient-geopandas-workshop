{
 "cells": [
  {
   "cell_type": "markdown",
   "metadata": {},
   "source": [
    "# Writing an efficient code for GeoPandas and Shapely in 2023\n",
    "\n",
    "With the release of Shapely 2.0, the GeoPandas-based code that have been optimised years ago may no longer provide the best performance. This workshop will show you how to change that and write efficient and convenient GeoPandas code that uses the benefits of the latest developments in the Python geospatial ecosystem.\n",
    "\n",
    "**Martin Fleischmann, Joris van den Bossche**\n",
    "\n",
    "08/03/2022, Basel\n",
    "\n",
    "## Setup\n",
    "\n",
    "Follow the ReadMe to set up the environment correctly. You should have these packages installed:\n",
    "\n",
    "```\n",
    "- geopandas\n",
    "- pyogrio\n",
    "- pyarrow\n",
    "```\n",
    "\n",
    "## What is GeoPandas?\n",
    "\n",
    "**Easy, fast and scalable geospatial analysis in Python**\n",
    "\n",
    "From the docs:\n",
    "\n",
    "> The goal of GeoPandas is to make working with geospatial data in python easier. It combines the capabilities of pandas and shapely, providing geospatial operations in pandas and a high-level interface to multiple geometries to shapely. GeoPandas enables you to easily do operations in python that would otherwise require a spatial database such as PostGIS.\n",
    "\n",
    "## How to write an efficient code for GeoPandas?\n",
    "\n",
    "The way an efficient code should look like evolves as the whole ecosystem constantly develops better, smarter and faster tools. What was considered a good piece of code only a few years ago may not be optimal today. \n",
    "\n",
    "This notebook contains a set of examples of the common tasks. Each shows a way that was recommended some time ago. By us, by the community, in the documentation or on StackOverflow or elsewhere. And each show a way that is recommended today, with GeoPandas 0.12 and Shapely 2.0. "
   ]
  },
  {
   "cell_type": "code",
   "execution_count": null,
   "metadata": {
    "tags": []
   },
   "outputs": [],
   "source": [
    "import geopandas\n",
    "import numpy\n",
    "import pandas\n",
    "import shapely\n",
    "\n",
    "from shapely.geometry import Point, LineString, Polygon"
   ]
  },
  {
   "cell_type": "markdown",
   "metadata": {},
   "source": [
    "Check that you are running the latest versions. GeoPandas should be at 0.12.2 while Shapely at 2.0.1. "
   ]
  },
  {
   "cell_type": "code",
   "execution_count": null,
   "metadata": {
    "tags": []
   },
   "outputs": [],
   "source": [
    "geopandas.__version__, shapely.__version__"
   ]
  },
  {
   "cell_type": "markdown",
   "metadata": {},
   "source": [
    "- [ ] spatial predicates - use STRtree not binary predicates or sjoin\n",
    "    - https://stackoverflow.com/questions/48097742/geopandas-point-in-polygon\n",
    "    - https://stackoverflow.com/questions/62410871/how-do-i-test-if-point-is-in-polygon-multipolygon-with-geopandas-in-python\n",
    "    - https://gis.stackexchange.com/questions/281652/finding-all-neighbors-using-geopandas\n",
    "- [x] efficient IO\n",
    "    - pyogrio, parquet\n",
    "- [x] pairwise distance (shapely ufunc broadcasting - `shapely.distance(pts, np.reshape(pts, (-1, 1)))`)\n",
    "    - https://stackoverflow.com/questions/64754025/calculate-all-distances-between-two-geodataframe-of-points-in-geopandas\n",
    "- [x] folium mapping\n",
    "    - https://autogis-site.readthedocs.io/en/latest/lessons/lesson-5/interactive-maps.html\n",
    "- [x] WKT/WKB serialization\n",
    "    - https://stackoverflow.com/questions/61122875/geopandas-how-to-read-a-csv-and-convert-to-a-geopandas-dataframe-with-polygons\n",
    "    - https://stackoverflow.com/questions/61125808/geopandas-how-to-convert-the-column-geometry-to-string\n",
    "- [x] creating point geometry\n",
    "    - https://stackoverflow.com/questions/50971914/what-is-the-most-efficient-way-to-convert-numpy-arrays-to-shapely-points\n",
    "- [ ] nearest\n",
    "    - https://stackoverflow.com/questions/30740046/calculate-distance-to-nearest-feature-with-geopandas\n",
    "    - https://stackoverflow.com/questions/56520780/how-to-use-geopanda-or-shapely-to-find-nearest-point-in-same-geodataframe\n",
    "- [x] points to lines\n",
    "    - https://stackoverflow.com/questions/51071365/convert-points-to-lines-geopandas\n",
    "- [x] specifying a projection (don't use `init...`)\n",
    "    - https://gis.stackexchange.com/questions/218450/getting-polygon-areas-using-geopandas\n",
    "- [x] getting coordinates\n",
    "    - https://gis.stackexchange.com/questions/287306/listing-all-polygon-vertices-coordinates-using-geopandas\n",
    "- [x] dissolve connected components\n",
    "    - https://gis.stackexchange.com/questions/271733/geopandas-dissolve-overlapping-polygons\n",
    "- [x] rounding coordinates (and the issues it may cause)\n",
    "    - https://gis.stackexchange.com/questions/321518/rounding-coordinates-to-five-decimals-in-geopandas"
   ]
  },
  {
   "cell_type": "markdown",
   "metadata": {},
   "source": [
    "## Data creation\n",
    "\n",
    "Before you can work with geometries, you may need to create them.\n",
    "\n",
    "### Create points from coordinates\n",
    "\n",
    "> **QUESTION:** I have an array with latitude and longitude coordinates denoting locations of interest. How do I create geometry?\n",
    "\n",
    "Create a dummy array of coordinates, representing latitude and longitude."
   ]
  },
  {
   "cell_type": "code",
   "execution_count": null,
   "metadata": {
    "tags": []
   },
   "outputs": [],
   "source": [
    "latitude = numpy.random.uniform(-90, 90, 100_000)\n",
    "longitude = numpy.random.uniform(-180, 180, 100_000)"
   ]
  },
  {
   "cell_type": "code",
   "execution_count": null,
   "metadata": {
    "tags": []
   },
   "outputs": [],
   "source": [
    "coordinates_df = pandas.DataFrame({\"latitude\": latitude, \"longitude\": longitude})\n",
    "coordinates_df.head()"
   ]
  },
  {
   "cell_type": "markdown",
   "metadata": {},
   "source": [
    "#### The code of the past\n",
    "\n",
    "Using `map` and a scalar `Point` object."
   ]
  },
  {
   "cell_type": "code",
   "execution_count": null,
   "metadata": {
    "tags": []
   },
   "outputs": [],
   "source": [
    "# do not use this code\n",
    "\n",
    "%time s = geopandas.GeoSeries(map(Point, zip(longitude, latitude)), crs=4326)\n",
    "s.head()"
   ]
  },
  {
   "cell_type": "markdown",
   "metadata": {},
   "source": [
    "Using list comprehension and a scalar `Point` object."
   ]
  },
  {
   "cell_type": "code",
   "execution_count": null,
   "metadata": {
    "tags": []
   },
   "outputs": [],
   "source": [
    "# do not use this code\n",
    "\n",
    "%time s = geopandas.GeoSeries([Point(coords) for coords in zip(longitude, latitude)], crs=4326)\n",
    "s.head()"
   ]
  },
  {
   "cell_type": "markdown",
   "metadata": {
    "tags": []
   },
   "source": [
    "Using `apply` and a scalar `Point` object."
   ]
  },
  {
   "cell_type": "code",
   "execution_count": null,
   "metadata": {
    "tags": []
   },
   "outputs": [],
   "source": [
    "# do not use this code\n",
    "\n",
    "%time s = coordinates_df.apply(lambda x: Point(x[::-1]), axis=1)\n",
    "s.head()"
   ]
  },
  {
   "cell_type": "markdown",
   "metadata": {},
   "source": [
    "The resulting object is not even a GeoSeries yet."
   ]
  },
  {
   "cell_type": "code",
   "execution_count": null,
   "metadata": {
    "tags": []
   },
   "outputs": [],
   "source": [
    "s = geopandas.GeoSeries(s, crs=4326)\n",
    "s.head()"
   ]
  },
  {
   "cell_type": "markdown",
   "metadata": {},
   "source": [
    "#### The code of today\n",
    "\n",
    "Using `GeoSeries.from_xy`."
   ]
  },
  {
   "cell_type": "code",
   "execution_count": null,
   "metadata": {
    "tags": []
   },
   "outputs": [],
   "source": [
    "%time s = geopandas.GeoSeries.from_xy(longitude, latitude, crs=4326)\n",
    "s.head()"
   ]
  },
  {
   "cell_type": "markdown",
   "metadata": {},
   "source": [
    "Using `geopandas.points_from_xy`."
   ]
  },
  {
   "cell_type": "code",
   "execution_count": null,
   "metadata": {
    "tags": []
   },
   "outputs": [],
   "source": [
    "%time ga = geopandas.points_from_xy(coordinates_df.longitude, coordinates_df.latitude, crs=4326)\n",
    "ga"
   ]
  },
  {
   "cell_type": "markdown",
   "metadata": {},
   "source": [
    "### Geometry from text\n",
    "\n",
    "> **QUESTION** I have loaded a CSV, like the one in `data/sales.csv`, that has a column looking like a geometry but it is a string. How do I create a geometry I can work with?\n",
    "\n",
    "Load the CSV in question."
   ]
  },
  {
   "cell_type": "code",
   "execution_count": null,
   "metadata": {
    "tags": []
   },
   "outputs": [],
   "source": [
    "df = pandas.read_csv(\"data/sales.csv\")\n",
    "df.head()"
   ]
  },
  {
   "cell_type": "code",
   "execution_count": null,
   "metadata": {
    "tags": []
   },
   "outputs": [],
   "source": [
    "df.dtypes"
   ]
  },
  {
   "cell_type": "markdown",
   "metadata": {},
   "source": [
    "#### The code of the past\n",
    "\n",
    "Using `shapely.wkt.loads`."
   ]
  },
  {
   "cell_type": "code",
   "execution_count": null,
   "metadata": {
    "tags": []
   },
   "outputs": [],
   "source": [
    "# do not use this code\n",
    "from shapely import wkt\n",
    "\n",
    "%time gdf = geopandas.GeoDataFrame(df, geometry=df.geometry.apply(wkt.loads), crs=4326)\n",
    "gdf.head()"
   ]
  },
  {
   "cell_type": "markdown",
   "metadata": {},
   "source": [
    "#### The code of today\n",
    "\n",
    "Using `GeoSeries.from_wkt`."
   ]
  },
  {
   "cell_type": "code",
   "execution_count": null,
   "metadata": {
    "tags": []
   },
   "outputs": [],
   "source": [
    "%time gdf = geopandas.GeoDataFrame(df, geometry=geopandas.GeoSeries.from_wkt(df.geometry, crs=4326))\n",
    "gdf.head()"
   ]
  },
  {
   "cell_type": "code",
   "execution_count": null,
   "metadata": {
    "tags": []
   },
   "outputs": [],
   "source": [
    "gdf.dtypes"
   ]
  },
  {
   "cell_type": "markdown",
   "metadata": {},
   "source": [
    "### Geometry from bytes\n",
    "\n",
    "> **QUESTION** I have loaded a Apache Parquet, like the one in `data/sales.parquet`, that has a column called geometry but it looks weird. How do I create a geometry I can work with?\n",
    "\n",
    "Load the CSV in question."
   ]
  },
  {
   "cell_type": "code",
   "execution_count": null,
   "metadata": {
    "tags": []
   },
   "outputs": [],
   "source": [
    "df = pandas.read_parquet(\"data/sales.parquet\")\n",
    "df.head()"
   ]
  },
  {
   "cell_type": "markdown",
   "metadata": {},
   "source": [
    "#### The code of the past\n",
    "\n",
    "Using `shapely.wkb.loads`."
   ]
  },
  {
   "cell_type": "code",
   "execution_count": null,
   "metadata": {
    "tags": []
   },
   "outputs": [],
   "source": [
    "# do not use this code\n",
    "from shapely import wkb\n",
    "\n",
    "%time gdf = geopandas.GeoDataFrame(df, geometry=df.geometry.apply(wkb.loads), crs=4326)\n",
    "gdf.head()"
   ]
  },
  {
   "cell_type": "markdown",
   "metadata": {},
   "source": [
    "#### The code of today\n",
    "\n",
    "Using `GeoSeries.from_wkb`."
   ]
  },
  {
   "cell_type": "code",
   "execution_count": null,
   "metadata": {
    "tags": []
   },
   "outputs": [],
   "source": [
    "%time gdf = geopandas.GeoDataFrame(df, geometry=geopandas.GeoSeries.from_wkb(df.geometry, crs=4326))\n",
    "gdf.head()"
   ]
  },
  {
   "cell_type": "code",
   "execution_count": null,
   "metadata": {
    "tags": []
   },
   "outputs": [],
   "source": [
    "gdf.dtypes"
   ]
  },
  {
   "cell_type": "markdown",
   "metadata": {
    "tags": []
   },
   "source": [
    "#### Side note\n",
    "\n",
    "The same would apply if you wanted to dump geometry to WKT/WKB. Do not use `wkt.dumps` or `wkb.dumps` on scalar geometries. Use `to_wkt` or `to_wkb` instead."
   ]
  },
  {
   "cell_type": "code",
   "execution_count": null,
   "metadata": {
    "tags": []
   },
   "outputs": [],
   "source": [
    "# do not use this code\n",
    "gdf.geometry.apply(wkb.dumps)"
   ]
  },
  {
   "cell_type": "code",
   "execution_count": null,
   "metadata": {
    "tags": []
   },
   "outputs": [],
   "source": [
    "gdf.to_wkt()"
   ]
  },
  {
   "cell_type": "code",
   "execution_count": null,
   "metadata": {
    "tags": []
   },
   "outputs": [],
   "source": [
    "gdf.to_wkb()"
   ]
  },
  {
   "cell_type": "markdown",
   "metadata": {
    "tags": []
   },
   "source": [
    "### Lines from points\n",
    "\n",
    "> **QUESTION:** I have coordinates representing trajectories. How do I create LineString geometries from those?"
   ]
  },
  {
   "cell_type": "code",
   "execution_count": null,
   "metadata": {
    "tags": []
   },
   "outputs": [],
   "source": [
    "df = pandas.DataFrame(\n",
    "    {\"lat\": latitude, \"lon\": longitude, \"traj_id\": numpy.repeat(numpy.arange(12500), 8)}\n",
    ")\n",
    "df"
   ]
  },
  {
   "cell_type": "markdown",
   "metadata": {},
   "source": [
    "#### The code of the past\n",
    "\n",
    "Using groupby-apply with a scalar `LineString` constructor after creation of `Point` geometry."
   ]
  },
  {
   "cell_type": "code",
   "execution_count": null,
   "metadata": {
    "tags": []
   },
   "outputs": [],
   "source": [
    "%%time\n",
    "# do not use this code\n",
    "grouped = df.groupby([\"traj_id\"])[[\"lon\", \"lat\"]].apply(lambda x: LineString(x))\n",
    "grouped = geopandas.GeoDataFrame(grouped.to_frame(\"geometry\"), crs=4326)\n",
    "grouped"
   ]
  },
  {
   "cell_type": "markdown",
   "metadata": {},
   "source": [
    "The same with unnecessary creating of Point geometry (a very common pattern and a top answer on StackOverflow)."
   ]
  },
  {
   "cell_type": "code",
   "execution_count": null,
   "metadata": {
    "tags": []
   },
   "outputs": [],
   "source": [
    "%%time\n",
    "# do not use this code\n",
    "geometry = [Point(xy) for xy in zip(df[\"lon\"], df[\"lat\"])]\n",
    "gdf = geopandas.GeoDataFrame(df.copy(), geometry=geometry)\n",
    "\n",
    "grouped = gdf.groupby(\"traj_id\")[\"geometry\"].apply(lambda x: LineString(x.tolist()))\n",
    "grouped = geopandas.GeoDataFrame(grouped, crs=4326)\n",
    "grouped"
   ]
  },
  {
   "cell_type": "markdown",
   "metadata": {},
   "source": [
    "#### The code of today\n",
    "\n",
    "Use `shapely.linestrings` constructor."
   ]
  },
  {
   "cell_type": "code",
   "execution_count": null,
   "metadata": {
    "tags": []
   },
   "outputs": [],
   "source": [
    "%%time\n",
    "gdf = geopandas.GeoDataFrame(\n",
    "    geometry=shapely.linestrings(df[[\"lon\", \"lat\"]], indices=df.traj_id),\n",
    ")\n",
    "gdf"
   ]
  },
  {
   "cell_type": "markdown",
   "metadata": {},
   "source": [
    "What if the trajectory index is not `0...N`?"
   ]
  },
  {
   "cell_type": "code",
   "execution_count": null,
   "metadata": {
    "tags": []
   },
   "outputs": [],
   "source": [
    "df[\"traj_id\"] = df[\"traj_id\"] * 3\n",
    "df"
   ]
  },
  {
   "cell_type": "markdown",
   "metadata": {},
   "source": [
    "Use `pandas.factorize` to enumerate unique values. But remember - the DataFrame should have all points belonging to a same trajectory together. Try sorting first if that is not the case."
   ]
  },
  {
   "cell_type": "code",
   "execution_count": null,
   "metadata": {
    "tags": []
   },
   "outputs": [],
   "source": [
    "%%time\n",
    "gdf = geopandas.GeoDataFrame(\n",
    "    geometry=shapely.linestrings(\n",
    "        df[[\"lon\", \"lat\"]], indices=pandas.factorize(df.traj_id)[0]\n",
    "    ),\n",
    "    crs=4326,\n",
    ")\n",
    "gdf"
   ]
  },
  {
   "cell_type": "markdown",
   "metadata": {},
   "source": [
    "What does `pandas.factorize` do?"
   ]
  },
  {
   "cell_type": "code",
   "execution_count": null,
   "metadata": {
    "tags": []
   },
   "outputs": [],
   "source": [
    "pandas.factorize(df.traj_id)"
   ]
  },
  {
   "cell_type": "markdown",
   "metadata": {},
   "source": [
    "You can use the other array as an index."
   ]
  },
  {
   "cell_type": "code",
   "execution_count": null,
   "metadata": {
    "tags": []
   },
   "outputs": [],
   "source": [
    "%%time\n",
    "indices, index = pandas.factorize(df.traj_id)\n",
    "gdf = geopandas.GeoDataFrame(\n",
    "    geometry=shapely.linestrings(df[[\"lon\", \"lat\"]], indices=indices),\n",
    "    index=index,\n",
    "    crs=4326,\n",
    ")\n",
    "gdf"
   ]
  },
  {
   "cell_type": "markdown",
   "metadata": {
    "tags": []
   },
   "source": [
    "## Reading/writing geospatial file formats\n",
    "\n",
    "The previous section dealt with creating geometries in case you got the data from non-geospatial file formats, this section focuses on file formats that already contain the geometries, i.e. files we can read using `geopandas.read_file` (using GDAL under the hood)."
   ]
  },
  {
   "cell_type": "markdown",
   "metadata": {
    "tags": []
   },
   "source": [
    "Reading a GeoJSON file using `read_file` (with the default of using the `fiona` GDAL bindings):"
   ]
  },
  {
   "cell_type": "code",
   "execution_count": null,
   "metadata": {
    "tags": []
   },
   "outputs": [],
   "source": [
    "%%time\n",
    "geopandas.read_file(\"data/sales.geojson\")"
   ]
  },
  {
   "cell_type": "markdown",
   "metadata": {
    "tags": []
   },
   "source": [
    "Specify to use the `pyogrio` package instead (also bindings to GDAL, https://github.com/geopandas/pyogrio/):"
   ]
  },
  {
   "cell_type": "code",
   "execution_count": null,
   "metadata": {
    "tags": []
   },
   "outputs": [],
   "source": [
    "%timeit geopandas.read_file(\"data/sales.geojson\", engine=\"pyogrio\")"
   ]
  },
  {
   "cell_type": "markdown",
   "metadata": {},
   "source": [
    "While GeoJSON definitly has its good use cases (for example, sharing smaller data on the web), for larger datasets, there are better file formats such as GeoPackage and GeoParquet:"
   ]
  },
  {
   "cell_type": "code",
   "execution_count": null,
   "metadata": {
    "tags": []
   },
   "outputs": [],
   "source": [
    "gdf.to_file(\"data/sales.gpkg\")\n",
    "gdf.to_parquet(\"data/sales_geo.parquet\")"
   ]
  },
  {
   "cell_type": "code",
   "execution_count": null,
   "metadata": {
    "tags": []
   },
   "outputs": [],
   "source": [
    "%timeit geopandas.read_file(\"data/sales.gpkg\", engine=\"pyogrio\")"
   ]
  },
  {
   "cell_type": "code",
   "execution_count": null,
   "metadata": {
    "tags": []
   },
   "outputs": [],
   "source": [
    "%timeit geopandas.read_file(\"data/sales.gpkg\", engine=\"pyogrio\", use_arrow=True)"
   ]
  },
  {
   "cell_type": "code",
   "execution_count": null,
   "metadata": {
    "tags": []
   },
   "outputs": [],
   "source": [
    "%timeit geopandas.read_parquet(\"data/sales_geo.parquet\")"
   ]
  },
  {
   "cell_type": "markdown",
   "metadata": {},
   "source": [
    "## Coordinate operations\n",
    "\n",
    "Sometimes you need to work with individual coordinates, not geometries.\n",
    "\n",
    "### Get coordinates as an array\n",
    "\n",
    "> **QUESTION:** How to list all coordinates of all vertices of LineStrings in my GeoDataFrame?"
   ]
  },
  {
   "cell_type": "code",
   "execution_count": null,
   "metadata": {
    "tags": []
   },
   "outputs": [],
   "source": [
    "gdf.head()"
   ]
  },
  {
   "cell_type": "markdown",
   "metadata": {},
   "source": [
    "#### The code of the past\n",
    "\n",
    "Looping through geometries and extracting coordinates via `.coords.xy`, then concatenating all together."
   ]
  },
  {
   "cell_type": "code",
   "execution_count": null,
   "metadata": {
    "tags": []
   },
   "outputs": [],
   "source": [
    "%%time\n",
    "# do not use this code\n",
    "coordinates = numpy.hstack([geom.coords.xy for geom in gdf.geometry]).T\n",
    "coordinates"
   ]
  },
  {
   "cell_type": "markdown",
   "metadata": {},
   "source": [
    "#### The code of today\n",
    "\n",
    "Use `shapely.get_coordinates` directly on a GeoSeries."
   ]
  },
  {
   "cell_type": "code",
   "execution_count": null,
   "metadata": {
    "tags": []
   },
   "outputs": [],
   "source": [
    "%%time\n",
    "coordinates = shapely.get_coordinates(gdf.geometry)\n",
    "coordinates"
   ]
  },
  {
   "cell_type": "markdown",
   "metadata": {},
   "source": [
    "You can even get an index."
   ]
  },
  {
   "cell_type": "code",
   "execution_count": null,
   "metadata": {
    "tags": []
   },
   "outputs": [],
   "source": [
    "%%time\n",
    "coordinates, index = shapely.get_coordinates(gdf.geometry, return_index=True)\n",
    "index"
   ]
  },
  {
   "cell_type": "markdown",
   "metadata": {
    "tags": []
   },
   "source": [
    "#### The code of the future (sneak-peek of upcoming GeoPandas 0.13)\n",
    "\n",
    "Use `GeoSeries.get_coordinates()`."
   ]
  },
  {
   "cell_type": "code",
   "execution_count": null,
   "metadata": {},
   "outputs": [],
   "source": [
    "%%time\n",
    "gdf.get_coordinates(index_parts=True)"
   ]
  },
  {
   "cell_type": "markdown",
   "metadata": {},
   "source": [
    "### Rounding coordinates\n",
    "\n",
    "> **QUESTION:** I would like to round the coordinates to 3 decimals. How?"
   ]
  },
  {
   "cell_type": "code",
   "execution_count": null,
   "metadata": {
    "tags": []
   },
   "outputs": [],
   "source": [
    "gdf.head()"
   ]
  },
  {
   "cell_type": "markdown",
   "metadata": {},
   "source": [
    "#### The code of the past\n",
    "\n",
    "Using formatting of a WKT representation and regex."
   ]
  },
  {
   "cell_type": "code",
   "execution_count": null,
   "metadata": {
    "tags": []
   },
   "outputs": [],
   "source": [
    "# do not use this code\n",
    "import re\n",
    "\n",
    "def mround(match):\n",
    "    return \"{:.3f}\".format(float(match.group()))\n",
    "\n",
    "\n",
    "simpledec = re.compile(r\"\\d*\\.\\d+\")\n",
    "\n",
    "%time rounded = gdf.geometry.apply(lambda x: wkt.loads(re.sub(simpledec, mround, x.wkt)))\n",
    "rounded.head()"
   ]
  },
  {
   "cell_type": "markdown",
   "metadata": {},
   "source": [
    "Using rounding precision in dump to WKT."
   ]
  },
  {
   "cell_type": "code",
   "execution_count": null,
   "metadata": {},
   "outputs": [],
   "source": [
    "# do not use this code\n",
    "%time rounded = [wkt.loads(wkt.dumps(geom, rounding_precision=3)) for geom in gdf.geometry]"
   ]
  },
  {
   "cell_type": "markdown",
   "metadata": {},
   "source": [
    "#### The code of today\n",
    "\n",
    "Use `shapely.set_precision` on a GeoSeries."
   ]
  },
  {
   "cell_type": "code",
   "execution_count": null,
   "metadata": {
    "tags": []
   },
   "outputs": [],
   "source": [
    "%time shapely.set_precision(gdf.geometry, 0.001)"
   ]
  },
  {
   "cell_type": "markdown",
   "metadata": {},
   "source": [
    "As a bonus, you can specify how to handle geometries that became invalid due to the rounding. See the [documentation](https://shapely.readthedocs.io/en/stable/reference/shapely.set_precision.html?highlight=precision#shapely.set_precision).\n",
    "\n",
    "## Specify coordinate reference system (CRS)\n",
    "\n",
    "> **QUESTION:** How to specify a CRS in `to_crs` or `set_crs`?"
   ]
  },
  {
   "cell_type": "code",
   "execution_count": null,
   "metadata": {
    "tags": []
   },
   "outputs": [],
   "source": [
    "gdf.crs"
   ]
  },
  {
   "cell_type": "markdown",
   "metadata": {},
   "source": [
    "#### The code of the past\n",
    "\n",
    "Using the dictionary with an `init` key."
   ]
  },
  {
   "cell_type": "code",
   "execution_count": null,
   "metadata": {
    "tags": []
   },
   "outputs": [],
   "source": [
    "gdf.to_crs({'init': 'epsg:3857'})"
   ]
  },
  {
   "cell_type": "markdown",
   "metadata": {},
   "source": [
    "### The code of today\n",
    "\n",
    "Use anything accepted by [`pyproj.CRS.from_user_input()`](https://pyproj4.github.io/pyproj/stable/api/crs/crs.html#pyproj.crs.CRS.from_user_input) or an `epsg` keyword argument.\n",
    "\n",
    "- PROJ string\n",
    "- Dictionary of PROJ parameters\n",
    "- PROJ keyword arguments for parameters\n",
    "- JSON string with PROJ parameters\n",
    "- CRS WKT string\n",
    "- An authority string [i.e. 'epsg:4326']\n",
    "- An EPSG integer code [i.e. 4326]\n",
    "- A tuple of (\"auth_name\": \"auth_code\") [i.e ('epsg', '4326')]\n",
    "- An object with a `to_wkt` method.\n",
    "- A `pyproj.crs.CRS` class"
   ]
  },
  {
   "cell_type": "code",
   "execution_count": null,
   "metadata": {
    "tags": []
   },
   "outputs": [],
   "source": [
    "gdf.to_crs('epsg:3857')\n",
    "# or\n",
    "gdf.to_crs(3857)\n",
    "# or\n",
    "gdf.to_crs(epsg=3857)\n",
    "# or \n",
    "gdf.to_crs(('epsg', '4326'))"
   ]
  },
  {
   "cell_type": "markdown",
   "metadata": {},
   "source": [
    "## Interactive maps\n",
    "\n",
    "> **QUESTION:** How to create an interactive map from my GeoDataFrame?\n",
    "\n",
    "You can use a population grid from the great [AutoGIS course](https://autogis-site.readthedocs.io/en/latest/lessons/lesson-5/interactive-maps.html#add-a-polygon-layer)."
   ]
  },
  {
   "cell_type": "code",
   "execution_count": null,
   "metadata": {
    "tags": []
   },
   "outputs": [],
   "source": [
    "population_grid = (\n",
    "    geopandas.read_file(\n",
    "        \"https://kartta.hsy.fi/geoserver/wfs\"\n",
    "        \"?service=wfs\"\n",
    "        \"&version=2.0.0\"\n",
    "        \"&request=GetFeature\"\n",
    "        \"&typeName=asuminen_ja_maankaytto:Vaestotietoruudukko_2020\"\n",
    "        \"&srsName=EPSG:4326\"\n",
    "        \"&bbox=24.6,60.1,25.2,60.4,EPSG:4326\"\n",
    "    )\n",
    "    .set_crs(\"EPSG:4326\")\n",
    ")\n",
    "population_grid.head()"
   ]
  },
  {
   "cell_type": "markdown",
   "metadata": {},
   "source": [
    "### The code of the past\n",
    "\n",
    "Use `folium` to construct the interactive map."
   ]
  },
  {
   "cell_type": "code",
   "execution_count": null,
   "metadata": {
    "tags": []
   },
   "outputs": [],
   "source": [
    "# you can use this code, but it may be unnecessarily inconvenient\n",
    "import folium\n",
    "\n",
    "# define string ID\n",
    "population_grid[\"id\"] = population_grid.index.astype(str)\n",
    "\n",
    "# initialise map. You need to know the location and a zoom level upfront\n",
    "interactive_map = folium.Map(\n",
    "    location=(60.17, 24.94),\n",
    "    zoom_start=12\n",
    ")\n",
    "\n",
    "# create choropleth layer\n",
    "population_grid_layer = folium.Choropleth(\n",
    "    geo_data=population_grid,\n",
    "    data=population_grid,\n",
    "    columns=(\"id\", \"asukkaita\"),\n",
    "    key_on=\"feature.id\",\n",
    "    bins=9,\n",
    "    fill_color=\"YlOrRd\",\n",
    "    line_weight=0,\n",
    "    highlight=True\n",
    ")\n",
    "\n",
    "# add it to the map\n",
    "population_grid_layer.add_to(interactive_map)\n",
    "\n",
    "\n",
    "# define style function to hide the layer so we can use Tooltip over Choropleth\n",
    "def style_function(feature):\n",
    "    return {\n",
    "        \"color\": \"transparent\",\n",
    "        \"fillColor\": \"transparent\"\n",
    "    }\n",
    "\n",
    "# define tooltip\n",
    "tooltip = folium.features.GeoJsonTooltip(\n",
    "    fields=(\"asukkaita\",),\n",
    ")\n",
    "\n",
    "# define layer that can host tooltip\n",
    "tooltip_layer = folium.features.GeoJson(\n",
    "    population_grid,\n",
    "    style_function=style_function,\n",
    "    tooltip=tooltip\n",
    ")\n",
    "\n",
    "# add the layer with a tooltip to the map\n",
    "tooltip_layer.add_to(interactive_map)\n",
    "\n",
    "interactive_map"
   ]
  },
  {
   "cell_type": "markdown",
   "metadata": {},
   "source": [
    "### The code of today\n",
    "\n",
    "Use built-in `.explore()` method. It wraps `folium` under the hood but makes the whole process much easier.  "
   ]
  },
  {
   "cell_type": "code",
   "execution_count": null,
   "metadata": {
    "tags": []
   },
   "outputs": [],
   "source": [
    "population_grid.explore(\"asukkaita\", cmap=\"YlOrRd\", tooltip='asukkaita', style_kwds=dict(stroke=False))"
   ]
  },
  {
   "cell_type": "markdown",
   "metadata": {
    "tags": []
   },
   "source": [
    "## Distance operations"
   ]
  },
  {
   "cell_type": "code",
   "execution_count": null,
   "metadata": {},
   "outputs": [],
   "source": [
    "homes = geopandas.read_file(\"data/sales.gpkg\", engine=\"pyogrio\").to_crs(\"EPSG:2926\")\n",
    "food = geopandas.read_file(\"data/food_establishments.gpkg\", engine=\"pyogrio\").to_crs(\"EPSG:2926\")"
   ]
  },
  {
   "cell_type": "code",
   "execution_count": null,
   "metadata": {
    "tags": []
   },
   "outputs": [],
   "source": [
    "print(len(homes), len(food))"
   ]
  },
  {
   "cell_type": "markdown",
   "metadata": {
    "tags": []
   },
   "source": [
    "### Pairwise distances\n",
    "\n",
    "> **QUESTION:** How to calculate the distance between all points of two GeoDataFrames?"
   ]
  },
  {
   "cell_type": "code",
   "execution_count": null,
   "metadata": {
    "tags": []
   },
   "outputs": [],
   "source": [
    "%%time\n",
    "homes[:1000].geometry.apply(lambda geom: food.distance(geom))"
   ]
  },
  {
   "cell_type": "code",
   "execution_count": null,
   "metadata": {
    "tags": []
   },
   "outputs": [],
   "source": [
    "%%time\n",
    "shapely.distance(np.asarray(homes[:1000].geometry)[:, np.newaxis], np.asarray(food.geometry)[np.newaxis, :])"
   ]
  },
  {
   "cell_type": "markdown",
   "metadata": {},
   "source": [
    "### Distance to nearest point\n",
    "\n",
    "> **QUESTION:** How to calculate the distance to the nearest feature of another GeoDataFrame?"
   ]
  },
  {
   "cell_type": "markdown",
   "metadata": {},
   "source": [
    "#### The code of the past\n",
    "\n",
    "Using a brute-force calculation of the distance for all points and taking the minimum:"
   ]
  },
  {
   "cell_type": "code",
   "execution_count": null,
   "metadata": {
    "tags": []
   },
   "outputs": [],
   "source": [
    "%%time\n",
    "# do not use this code\n",
    "# only taking the first 1000 rows (1/20th of full dataset)\n",
    "homes[:1000].geometry.apply(lambda geom: food.distance(geom).min())"
   ]
  },
  {
   "cell_type": "markdown",
   "metadata": {},
   "source": [
    "Using the shapely's `nearest_point` to get the nearest point and only calculate the distance for this point:"
   ]
  },
  {
   "cell_type": "code",
   "execution_count": null,
   "metadata": {
    "tags": []
   },
   "outputs": [],
   "source": [
    "from shapely.ops import nearest_points"
   ]
  },
  {
   "cell_type": "code",
   "execution_count": null,
   "metadata": {
    "tags": []
   },
   "outputs": [],
   "source": [
    "%%time\n",
    "# do not use this code\n",
    "\n",
    "# unary union of the right geomtries (food establishment locations) \n",
    "points = food.geometry.unary_union\n",
    "\n",
    "def nearest_dist(point, other=points):\n",
    "    # find the nearest point and return the distance to that point\n",
    "    nearest = nearest_points(point, other)[1]\n",
    "    return point.distance(nearest)\n",
    "\n",
    "homes[:1000].geometry.apply(lambda geom: nearest_dist(geom))"
   ]
  },
  {
   "cell_type": "markdown",
   "metadata": {},
   "source": [
    "#### The code of today\n",
    "\n",
    "Use `sjoin_nearest` with returning the distance:"
   ]
  },
  {
   "cell_type": "code",
   "execution_count": null,
   "metadata": {
    "tags": []
   },
   "outputs": [],
   "source": [
    "%%time\n",
    "# this is now with the full dataset (size x20) !!\n",
    "homes.sjoin_nearest(food[[\"geometry\"]], how=\"left\", distance_col=\"distance\")"
   ]
  },
  {
   "cell_type": "markdown",
   "metadata": {},
   "source": [
    "If you only need the distances (and not joined dataframes), you can also use the spatial index directly:"
   ]
  },
  {
   "cell_type": "code",
   "execution_count": null,
   "metadata": {
    "tags": []
   },
   "outputs": [],
   "source": [
    "%%time\n",
    "tree = shapely.STRtree(food.geometry)\n",
    "indices, distances = tree.query_nearest(homes.geometry, all_matches=False, return_distance=True)\n",
    "distances"
   ]
  },
  {
   "cell_type": "markdown",
   "metadata": {},
   "source": [
    "### Distance to all points within a search radius\n",
    "\n",
    "> **QUESTION:** How to calculate the distance between all points of two GeoDataFrames, but limited to distances below a certain threshold?"
   ]
  },
  {
   "cell_type": "markdown",
   "metadata": {},
   "source": [
    "With many features, doing the full pairwise distance calculation is costly (and gives a large matrix as result). If you want more than just the nearest, another option is to limit it calculate the distance to points within a certain distance:"
   ]
  },
  {
   "cell_type": "code",
   "execution_count": null,
   "metadata": {
    "tags": []
   },
   "outputs": [],
   "source": [
    "tree = shapely.STRtree(food.geometry)"
   ]
  },
  {
   "cell_type": "code",
   "execution_count": null,
   "metadata": {
    "tags": []
   },
   "outputs": [],
   "source": [
    "%%time\n",
    "idx1, idx2 = tree.query(homes.geometry, predicate=\"dwithin\", distance=5_000)\n",
    "distances = shapely.distance(np.asarray(homes.geometry)[idx1], np.asarray(food.geometry)[idx2])\n",
    "distances"
   ]
  },
  {
   "cell_type": "code",
   "execution_count": null,
   "metadata": {
    "tags": []
   },
   "outputs": [],
   "source": [
    "len(distances)"
   ]
  },
  {
   "cell_type": "markdown",
   "metadata": {},
   "source": [
    "## Merge overlapping or touching polygons (note: do spatial predicates first, this is just an application in principle)\n",
    "\n",
    "**QUESTION:** How can I merge all polygons that overlap into one?"
   ]
  },
  {
   "cell_type": "code",
   "execution_count": null,
   "metadata": {
    "tags": []
   },
   "outputs": [],
   "source": [
    "s = geopandas.GeoDataFrame(geometry=[Polygon([(0, 0), (0, 2), (2, 2), (2, 0)]), Polygon([(0, 1), (0, 3), (2, 3), (2, 1)]),Polygon([(1, 0), (1, 2), (3, 2), (3, 0)]), Polygon([(4, 4), (4, 6), (6, 6), (6, 4)])])\n",
    "s.plot(cmap='tab10', alpha=.5)"
   ]
  },
  {
   "cell_type": "markdown",
   "metadata": {},
   "source": [
    "### The code of the past\n",
    "\n",
    "Create a connectivity matrix using spatial predicates like `overlaps` to get group overlapping polygons."
   ]
  },
  {
   "cell_type": "code",
   "execution_count": null,
   "metadata": {
    "tags": []
   },
   "outputs": [],
   "source": [
    "from scipy.sparse.csgraph import connected_components"
   ]
  },
  {
   "cell_type": "code",
   "execution_count": null,
   "metadata": {
    "tags": []
   },
   "outputs": [],
   "source": [
    "%%time\n",
    "# do not use this code\n",
    "overlap_matrix = s.geometry.apply(lambda x: s.overlaps(x)).values.astype(bool)\n",
    "n, ids = connected_components(overlap_matrix)"
   ]
  },
  {
   "cell_type": "code",
   "execution_count": null,
   "metadata": {
    "tags": []
   },
   "outputs": [],
   "source": [
    "s.dissolve(ids).plot(cmap='tab10', alpha=.5)"
   ]
  },
  {
   "cell_type": "markdown",
   "metadata": {},
   "source": [
    "The overlap matrix will have the shape `(N, N)`. That can be **a lot** of values, while most of them will be 0."
   ]
  },
  {
   "cell_type": "code",
   "execution_count": null,
   "metadata": {
    "tags": []
   },
   "outputs": [],
   "source": [
    "overlap_matrix"
   ]
  },
  {
   "cell_type": "markdown",
   "metadata": {
    "tags": []
   },
   "source": [
    "### The code of today\n",
    "\n",
    "Use spatial index query to create the connectivity matrix as a sparse array."
   ]
  },
  {
   "cell_type": "code",
   "execution_count": null,
   "metadata": {
    "tags": []
   },
   "outputs": [],
   "source": [
    "from scipy.sparse import coo_array"
   ]
  },
  {
   "cell_type": "code",
   "execution_count": null,
   "metadata": {
    "tags": []
   },
   "outputs": [],
   "source": [
    "%%time\n",
    "right_index, left_index = s.sindex.query_bulk(s.geometry, predicate=\"overlaps\")\n",
    "connectivity = coo_array(\n",
    "        (\n",
    "            numpy.ones(right_index.shape, dtype=bool),\n",
    "            (right_index, left_index),\n",
    "        ),\n",
    "        shape=(s.shape[0], s.shape[0]),\n",
    "        dtype=bool,\n",
    "    )\n",
    "n, ids = connected_components(connectivity)"
   ]
  },
  {
   "cell_type": "code",
   "execution_count": null,
   "metadata": {
    "tags": []
   },
   "outputs": [],
   "source": [
    "s.dissolve(ids).plot(cmap='tab10', alpha=.5)"
   ]
  },
  {
   "cell_type": "markdown",
   "metadata": {},
   "source": [
    "This is would the connectivy looked if dense. But since it is sparse, neither of False is stored."
   ]
  },
  {
   "cell_type": "code",
   "execution_count": null,
   "metadata": {
    "tags": []
   },
   "outputs": [],
   "source": [
    "connectivity.todense()"
   ]
  },
  {
   "cell_type": "markdown",
   "metadata": {},
   "source": [
    "With small table, you can create a dense array instead of sparse."
   ]
  },
  {
   "cell_type": "code",
   "execution_count": null,
   "metadata": {
    "tags": []
   },
   "outputs": [],
   "source": [
    "dense = numpy.zeros(shape=(len(s), len(s)), dtype=bool)\n",
    "dense[left_index, right_index] = True\n",
    "dense"
   ]
  },
  {
   "cell_type": "markdown",
   "metadata": {},
   "source": [
    "More convenient option would be to use external library from the geopandas ecosystem. This will create the sparse matrix for you."
   ]
  },
  {
   "cell_type": "code",
   "execution_count": null,
   "metadata": {
    "tags": []
   },
   "outputs": [],
   "source": [
    "import libpysal"
   ]
  },
  {
   "cell_type": "code",
   "execution_count": null,
   "metadata": {
    "tags": []
   },
   "outputs": [],
   "source": [
    "connectivity = libpysal.weights.fuzzy_contiguity(s, predicate=\"overlaps\")"
   ]
  },
  {
   "cell_type": "code",
   "execution_count": null,
   "metadata": {
    "tags": []
   },
   "outputs": [],
   "source": [
    "s.dissolve(connectivity.component_labels).plot(cmap='tab10', alpha=.5)"
   ]
  },
  {
   "cell_type": "markdown",
   "metadata": {},
   "source": [
    "If you were interested in topological contguity, using `Queen` weights constructor will be even faster."
   ]
  },
  {
   "cell_type": "code",
   "execution_count": null,
   "metadata": {},
   "outputs": [],
   "source": [
    "connectivity = libpysal.weights.Queen.from_dataframe(s)"
   ]
  },
  {
   "cell_type": "code",
   "execution_count": null,
   "metadata": {},
   "outputs": [],
   "source": []
  }
 ],
 "metadata": {
  "kernelspec": {
   "display_name": "Python 3 (ipykernel)",
   "language": "python",
   "name": "python3"
  },
  "language_info": {
   "codemirror_mode": {
    "name": "ipython",
    "version": 3
   },
   "file_extension": ".py",
   "mimetype": "text/x-python",
   "name": "python",
   "nbconvert_exporter": "python",
   "pygments_lexer": "ipython3",
   "version": "3.11.0"
  },
  "vscode": {
   "interpreter": {
    "hash": "029493424c262204dc2a0b83d1ac63e4e0f746dccf0eac8b34673e62335cac43"
   }
  }
 },
 "nbformat": 4,
 "nbformat_minor": 4
}
